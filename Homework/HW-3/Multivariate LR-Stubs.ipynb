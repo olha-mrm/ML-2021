{
 "cells": [
  {
   "cell_type": "code",
   "execution_count": 1,
   "metadata": {},
   "outputs": [],
   "source": [
    "import numpy as np\n",
    "import pandas as pd\n",
    "import matplotlib.pyplot as plt\n",
    "%matplotlib inline"
   ]
  },
  {
   "cell_type": "code",
   "execution_count": 2,
   "metadata": {},
   "outputs": [],
   "source": [
    "def load_datasets(filename, data_columns, target_column):\n",
    "    df = pd.read_csv(filename)\n",
    "    X, y = df[data_columns], df[target_column]\n",
    "    return X, y"
   ]
  },
  {
   "cell_type": "code",
   "execution_count": 3,
   "metadata": {},
   "outputs": [],
   "source": [
    "def plot_data(A, b, test = False):\n",
    "    positive_indices = np.where(b == 1)[0]\n",
    "    negative_indices = np.where(b == 0)[0]\n",
    "    \n",
    "    plt.scatter(A.iloc[positive_indices, 0], A.iloc[positive_indices, 1], marker='x', c= 'yellow' if test else 'green')\n",
    "    plt.scatter(A.iloc[negative_indices, 0], A.iloc[negative_indices, 1], marker='+', c= 'blue' if test else 'red')\n",
    "    \n",
    "   # plt.show()"
   ]
  },
  {
   "cell_type": "code",
   "execution_count": 4,
   "metadata": {},
   "outputs": [],
   "source": [
    "def decision_boundary(X, y, mean, std, theta):\n",
    "    X = (X-mean)/std\n",
    "\n",
    "    positive_indices = np.where(y == 1)[0]\n",
    "    negative_indices = np.where(y == 0)[0]\n",
    "\n",
    "    plt.scatter(X.iloc[positive_indices, 0], X.iloc[positive_indices, 1], marker='x', c= 'yellow')\n",
    "    plt.scatter(X.iloc[negative_indices, 0], X.iloc[negative_indices, 1], marker='+', c= 'blue')\n",
    "    pass"
   ]
  },
  {
   "cell_type": "code",
   "execution_count": 5,
   "metadata": {},
   "outputs": [],
   "source": [
    "def normalize(X):\n",
    "    mean = np.mean(X, axis=0)\n",
    "    std = np.std(X, axis=0)\n",
    "    X_new = (X - mean)/std\n",
    "    return X_new, mean, std"
   ]
  },
  {
   "cell_type": "code",
   "execution_count": 6,
   "metadata": {},
   "outputs": [],
   "source": [
    "def prepare_X(X):\n",
    "    m = X.shape[0]\n",
    "    ones = np.ones((m, 1))\n",
    "    X_new = np.column_stack((ones, X))\n",
    "    return X_new"
   ]
  },
  {
   "cell_type": "code",
   "execution_count": 7,
   "metadata": {
    "collapsed": true
   },
   "outputs": [],
   "source": [
    "def sigmoid(z):\n",
    "    #z - вектор стовпець\n",
    "    g = 1 / (1 + np.exp(z*(-1)))\n",
    "    return g"
   ]
  },
  {
   "cell_type": "code",
   "execution_count": 8,
   "metadata": {
    "collapsed": true
   },
   "outputs": [],
   "source": [
    "def h(X, theta):\n",
    "    # X - матриця\n",
    "    # theta - вектор\n",
    "    z = X.dot(theta)\n",
    "    return sigmoid(z)"
   ]
  },
  {
   "cell_type": "code",
   "execution_count": 9,
   "metadata": {},
   "outputs": [],
   "source": [
    "def cost_function(X, y, theta):\n",
    "    m = X.shape[0]\n",
    "    if m ==0:\n",
    "        return None\n",
    "\n",
    "    if (y.any() == 0):\n",
    "        J = np.log(h(X, theta))**(-1)\n",
    "    elif (y.any() == 1):\n",
    "        J = np.log(1 - h(X, theta))**(-1)\n",
    "    else:\n",
    "        J = None\n",
    "    return J"
   ]
  },
  {
   "cell_type": "code",
   "execution_count": 10,
   "metadata": {},
   "outputs": [],
   "source": [
    "def derivative_theta(X, y, theta):\n",
    "    m = X.shape[0]\n",
    "    if m == 0:\n",
    "        return None\n",
    "\n",
    "    d_theta = X.T.dot(h(X,theta) - y)/m\n",
    "\n",
    "    return d_theta"
   ]
  },
  {
   "cell_type": "code",
   "execution_count": 11,
   "metadata": {
    "collapsed": true
   },
   "outputs": [],
   "source": [
    "def gradient_descent(X, y, theta, alpha, epsilon, num_iters, print_J = True):\n",
    "    m = X.shape[0]\n",
    "    J_history = []\n",
    "    \n",
    "    J = cost_function(X, y, theta)\n",
    "    \n",
    "    if print_J == True:\n",
    "        print(J)\n",
    "    J_history.append(J)\n",
    "    for i in range(num_iters):\n",
    "        \n",
    "        theta = theta - alpha* derivative_theta(X,y,theta)\n",
    "\n",
    "        J = cost_function(X, y, theta)\n",
    "        \n",
    "        J_history.append(J)\n",
    "        \n",
    "        if i % 1000 == 0 and print_J == True:\n",
    "            print(J)\n",
    "        \n",
    "        if abs((J-J_history[-2]).any()) < epsilon:\n",
    "            break\n",
    "            \n",
    "    return theta, J_history"
   ]
  },
  {
   "cell_type": "code",
   "execution_count": 12,
   "metadata": {},
   "outputs": [],
   "source": [
    "def predict(X, mean, std, theta):\n",
    "    predictions = h(prepare_X((X-mean.values)/std.values), theta)\n",
    "    return predictions"
   ]
  },
  {
   "cell_type": "code",
   "execution_count": 13,
   "metadata": {},
   "outputs": [
    {
     "output_type": "stream",
     "name": "stdout",
     "text": [
      "Training set: X=(100, 2), y=(100,)\n"
     ]
    }
   ],
   "source": [
    "data_columns = [\"exam1\", \"exam2\"]\n",
    "target_column = \"submitted\"\n",
    "X, y = load_datasets('sats.csv', data_columns, target_column)\n",
    "print('Training set: X={}, y={}'.format(X.shape, y.shape))"
   ]
  },
  {
   "cell_type": "code",
   "execution_count": 14,
   "metadata": {},
   "outputs": [
    {
     "output_type": "stream",
     "name": "stdout",
     "text": [
      "Training set: X=(118, 2), y=(118,)\n"
     ]
    }
   ],
   "source": [
    "# Спробувати на цьому датасеті після написання всіх функцій і відлагодження на попередньому\n",
    "data_columns = [\"test1\", \"test2\"]\n",
    "target_column = \"passed\"\n",
    "X, y = load_datasets('tests.csv', data_columns, target_column)\n",
    "print('Training set: X={}, y={}'.format(X.shape, y.shape))"
   ]
  },
  {
   "cell_type": "code",
   "execution_count": 15,
   "metadata": {},
   "outputs": [
    {
     "output_type": "display_data",
     "data": {
      "text/plain": "<Figure size 432x288 with 1 Axes>",
      "image/svg+xml": "<?xml version=\"1.0\" encoding=\"utf-8\" standalone=\"no\"?>\r\n<!DOCTYPE svg PUBLIC \"-//W3C//DTD SVG 1.1//EN\"\r\n  \"http://www.w3.org/Graphics/SVG/1.1/DTD/svg11.dtd\">\r\n<!-- Created with matplotlib (https://matplotlib.org/) -->\r\n<svg height=\"248.518125pt\" version=\"1.1\" viewBox=\"0 0 386.845312 248.518125\" width=\"386.845312pt\" xmlns=\"http://www.w3.org/2000/svg\" xmlns:xlink=\"http://www.w3.org/1999/xlink\">\r\n <metadata>\r\n  <rdf:RDF xmlns:cc=\"http://creativecommons.org/ns#\" xmlns:dc=\"http://purl.org/dc/elements/1.1/\" xmlns:rdf=\"http://www.w3.org/1999/02/22-rdf-syntax-ns#\">\r\n   <cc:Work>\r\n    <dc:type rdf:resource=\"http://purl.org/dc/dcmitype/StillImage\"/>\r\n    <dc:date>2021-03-30T01:37:04.433068</dc:date>\r\n    <dc:format>image/svg+xml</dc:format>\r\n    <dc:creator>\r\n     <cc:Agent>\r\n      <dc:title>Matplotlib v3.3.2, https://matplotlib.org/</dc:title>\r\n     </cc:Agent>\r\n    </dc:creator>\r\n   </cc:Work>\r\n  </rdf:RDF>\r\n </metadata>\r\n <defs>\r\n  <style type=\"text/css\">*{stroke-linecap:butt;stroke-linejoin:round;}</style>\r\n </defs>\r\n <g id=\"figure_1\">\r\n  <g id=\"patch_1\">\r\n   <path d=\"M 0 248.518125 \r\nL 386.845312 248.518125 \r\nL 386.845312 0 \r\nL 0 0 \r\nz\r\n\" style=\"fill:none;\"/>\r\n  </g>\r\n  <g id=\"axes_1\">\r\n   <g id=\"patch_2\">\r\n    <path d=\"M 44.845313 224.64 \r\nL 379.645313 224.64 \r\nL 379.645313 7.2 \r\nL 44.845313 7.2 \r\nz\r\n\" style=\"fill:#ffffff;\"/>\r\n   </g>\r\n   <g id=\"PathCollection_1\">\r\n    <defs>\r\n     <path d=\"M -3 3 \r\nL 3 -3 \r\nM -3 -3 \r\nL 3 3 \r\n\" id=\"m70f54169f6\" style=\"stroke:#008000;stroke-width:1.5;\"/>\r\n    </defs>\r\n    <g clip-path=\"url(#pf52ed4477e)\">\r\n     <use style=\"fill:#008000;stroke:#008000;stroke-width:1.5;\" x=\"178.11682\" xlink:href=\"#m70f54169f6\" y=\"61.69321\"/>\r\n     <use style=\"fill:#008000;stroke:#008000;stroke-width:1.5;\" x=\"201.174051\" xlink:href=\"#m70f54169f6\" y=\"60.154876\"/>\r\n     <use style=\"fill:#008000;stroke:#008000;stroke-width:1.5;\" x=\"158.748677\" xlink:href=\"#m70f54169f6\" y=\"60.924043\"/>\r\n     <use style=\"fill:#008000;stroke:#008000;stroke-width:1.5;\" x=\"132.924592\" xlink:href=\"#m70f54169f6\" y=\"80.922382\"/>\r\n     <use style=\"fill:#008000;stroke:#008000;stroke-width:1.5;\" x=\"110.789433\" xlink:href=\"#m70f54169f6\" y=\"84.768216\"/>\r\n     <use style=\"fill:#008000;stroke:#008000;stroke-width:1.5;\" x=\"108.94497\" xlink:href=\"#m70f54169f6\" y=\"111.688004\"/>\r\n     <use style=\"fill:#008000;stroke:#008000;stroke-width:1.5;\" x=\"129.235665\" xlink:href=\"#m70f54169f6\" y=\"130.148324\"/>\r\n     <use style=\"fill:#008000;stroke:#008000;stroke-width:1.5;\" x=\"143.99137\" xlink:href=\"#m70f54169f6\" y=\"153.992181\"/>\r\n     <use style=\"fill:#008000;stroke:#008000;stroke-width:1.5;\" x=\"195.640341\" xlink:href=\"#m70f54169f6\" y=\"176.29802\"/>\r\n     <use style=\"fill:#008000;stroke:#008000;stroke-width:1.5;\" x=\"214.085773\" xlink:href=\"#m70f54169f6\" y=\"187.835523\"/>\r\n     <use style=\"fill:#008000;stroke:#008000;stroke-width:1.5;\" x=\"254.667164\" xlink:href=\"#m70f54169f6\" y=\"193.219691\"/>\r\n     <use style=\"fill:#008000;stroke:#008000;stroke-width:1.5;\" x=\"277.724554\" xlink:href=\"#m70f54169f6\" y=\"188.60469\"/>\r\n     <use style=\"fill:#008000;stroke:#008000;stroke-width:1.5;\" x=\"295.246954\" xlink:href=\"#m70f54169f6\" y=\"159.376349\"/>\r\n     <use style=\"fill:#008000;stroke:#008000;stroke-width:1.5;\" x=\"310.926492\" xlink:href=\"#m70f54169f6\" y=\"153.223015\"/>\r\n     <use style=\"fill:#008000;stroke:#008000;stroke-width:1.5;\" x=\"280.491249\" xlink:href=\"#m70f54169f6\" y=\"82.460715\"/>\r\n     <use style=\"fill:#008000;stroke:#008000;stroke-width:1.5;\" x=\"244.521016\" xlink:href=\"#m70f54169f6\" y=\"72.461546\"/>\r\n     <use style=\"fill:#008000;stroke:#008000;stroke-width:1.5;\" x=\"219.619162\" xlink:href=\"#m70f54169f6\" y=\"77.076547\"/>\r\n     <use style=\"fill:#008000;stroke:#008000;stroke-width:1.5;\" x=\"185.495153\" xlink:href=\"#m70f54169f6\" y=\"47.848206\"/>\r\n     <use style=\"fill:#008000;stroke:#008000;stroke-width:1.5;\" x=\"165.204298\" xlink:href=\"#m70f54169f6\" y=\"60.154876\"/>\r\n     <use style=\"fill:#008000;stroke:#008000;stroke-width:1.5;\" x=\"116.322822\" xlink:href=\"#m70f54169f6\" y=\"67.077378\"/>\r\n     <use style=\"fill:#008000;stroke:#008000;stroke-width:1.5;\" x=\"96.033728\" xlink:href=\"#m70f54169f6\" y=\"70.923212\"/>\r\n     <use style=\"fill:#008000;stroke:#008000;stroke-width:1.5;\" x=\"92.3432\" xlink:href=\"#m70f54169f6\" y=\"98.613219\"/>\r\n     <use style=\"fill:#008000;stroke:#008000;stroke-width:1.5;\" x=\"97.878191\" xlink:href=\"#m70f54169f6\" y=\"133.224992\"/>\r\n     <use style=\"fill:#008000;stroke:#008000;stroke-width:1.5;\" x=\"125.546739\" xlink:href=\"#m70f54169f6\" y=\"162.453017\"/>\r\n     <use style=\"fill:#008000;stroke:#008000;stroke-width:1.5;\" x=\"174.428214\" xlink:href=\"#m70f54169f6\" y=\"175.528854\"/>\r\n     <use style=\"fill:#008000;stroke:#008000;stroke-width:1.5;\" x=\"225.154153\" xlink:href=\"#m70f54169f6\" y=\"197.065526\"/>\r\n     <use style=\"fill:#008000;stroke:#008000;stroke-width:1.5;\" x=\"267.578406\" xlink:href=\"#m70f54169f6\" y=\"190.143024\"/>\r\n     <use style=\"fill:#008000;stroke:#008000;stroke-width:1.5;\" x=\"300.781945\" xlink:href=\"#m70f54169f6\" y=\"190.143024\"/>\r\n     <use style=\"fill:#008000;stroke:#008000;stroke-width:1.5;\" x=\"170.739288\" xlink:href=\"#m70f54169f6\" y=\"76.30738\"/>\r\n     <use style=\"fill:#008000;stroke:#008000;stroke-width:1.5;\" x=\"145.837435\" xlink:href=\"#m70f54169f6\" y=\"51.694041\"/>\r\n     <use style=\"fill:#008000;stroke:#008000;stroke-width:1.5;\" x=\"150.448592\" xlink:href=\"#m70f54169f6\" y=\"32.464869\"/>\r\n     <use style=\"fill:#008000;stroke:#008000;stroke-width:1.5;\" x=\"167.048761\" xlink:href=\"#m70f54169f6\" y=\"49.38654\"/>\r\n     <use style=\"fill:#008000;stroke:#008000;stroke-width:1.5;\" x=\"165.204298\" xlink:href=\"#m70f54169f6\" y=\"65.539044\"/>\r\n     <use style=\"fill:#008000;stroke:#008000;stroke-width:1.5;\" x=\"147.681898\" xlink:href=\"#m70f54169f6\" y=\"83.999049\"/>\r\n     <use style=\"fill:#008000;stroke:#008000;stroke-width:1.5;\" x=\"134.769055\" xlink:href=\"#m70f54169f6\" y=\"100.92072\"/>\r\n     <use style=\"fill:#008000;stroke:#008000;stroke-width:1.5;\" x=\"144.913602\" xlink:href=\"#m70f54169f6\" y=\"130.917491\"/>\r\n     <use style=\"fill:#008000;stroke:#008000;stroke-width:1.5;\" x=\"155.05975\" xlink:href=\"#m70f54169f6\" y=\"156.299682\"/>\r\n     <use style=\"fill:#008000;stroke:#008000;stroke-width:1.5;\" x=\"182.728298\" xlink:href=\"#m70f54169f6\" y=\"153.223015\"/>\r\n     <use style=\"fill:#008000;stroke:#008000;stroke-width:1.5;\" x=\"203.018674\" xlink:href=\"#m70f54169f6\" y=\"150.915514\"/>\r\n     <use style=\"fill:#008000;stroke:#008000;stroke-width:1.5;\" x=\"229.765311\" xlink:href=\"#m70f54169f6\" y=\"177.067187\"/>\r\n     <use style=\"fill:#008000;stroke:#008000;stroke-width:1.5;\" x=\"239.909858\" xlink:href=\"#m70f54169f6\" y=\"157.838016\"/>\r\n     <use style=\"fill:#008000;stroke:#008000;stroke-width:1.5;\" x=\"270.345101\" xlink:href=\"#m70f54169f6\" y=\"153.223015\"/>\r\n     <use style=\"fill:#008000;stroke:#008000;stroke-width:1.5;\" x=\"296.170787\" xlink:href=\"#m70f54169f6\" y=\"148.608013\"/>\r\n     <use style=\"fill:#008000;stroke:#008000;stroke-width:1.5;\" x=\"266.656175\" xlink:href=\"#m70f54169f6\" y=\"132.455825\"/>\r\n     <use style=\"fill:#008000;stroke:#008000;stroke-width:1.5;\" x=\"293.402491\" xlink:href=\"#m70f54169f6\" y=\"117.072172\"/>\r\n     <use style=\"fill:#008000;stroke:#008000;stroke-width:1.5;\" x=\"285.102407\" xlink:href=\"#m70f54169f6\" y=\"105.535721\"/>\r\n     <use style=\"fill:#008000;stroke:#008000;stroke-width:1.5;\" x=\"309.082029\" xlink:href=\"#m70f54169f6\" y=\"87.075717\"/>\r\n     <use style=\"fill:#008000;stroke:#008000;stroke-width:1.5;\" x=\"228.843079\" xlink:href=\"#m70f54169f6\" y=\"78.614881\"/>\r\n     <use style=\"fill:#008000;stroke:#008000;stroke-width:1.5;\" x=\"263.88948\" xlink:href=\"#m70f54169f6\" y=\"63.231544\"/>\r\n     <use style=\"fill:#008000;stroke:#008000;stroke-width:1.5;\" x=\"244.521016\" xlink:href=\"#m70f54169f6\" y=\"60.924043\"/>\r\n     <use style=\"fill:#008000;stroke:#008000;stroke-width:1.5;\" x=\"215.008004\" xlink:href=\"#m70f54169f6\" y=\"73.230713\"/>\r\n     <use style=\"fill:#008000;stroke:#008000;stroke-width:1.5;\" x=\"191.951191\" xlink:href=\"#m70f54169f6\" y=\"91.690718\"/>\r\n     <use style=\"fill:#008000;stroke:#008000;stroke-width:1.5;\" x=\"178.11682\" xlink:href=\"#m70f54169f6\" y=\"75.538214\"/>\r\n     <use style=\"fill:#008000;stroke:#008000;stroke-width:1.5;\" x=\"159.670908\" xlink:href=\"#m70f54169f6\" y=\"96.305719\"/>\r\n     <use style=\"fill:#008000;stroke:#008000;stroke-width:1.5;\" x=\"159.670908\" xlink:href=\"#m70f54169f6\" y=\"115.533838\"/>\r\n     <use style=\"fill:#008000;stroke:#008000;stroke-width:1.5;\" x=\"122.780044\" xlink:href=\"#m70f54169f6\" y=\"110.918837\"/>\r\n     <use style=\"fill:#008000;stroke:#008000;stroke-width:1.5;\" x=\"157.826445\" xlink:href=\"#m70f54169f6\" y=\"135.532492\"/>\r\n     <use style=\"fill:#008000;stroke:#008000;stroke-width:1.5;\" x=\"170.739288\" xlink:href=\"#m70f54169f6\" y=\"162.453017\"/>\r\n    </g>\r\n   </g>\r\n   <g id=\"PathCollection_2\">\r\n    <defs>\r\n     <path d=\"M -3 0 \r\nL 3 0 \r\nM 0 3 \r\nL 0 -3 \r\n\" id=\"meae0dca1f0\" style=\"stroke:#ff0000;stroke-width:1.5;\"/>\r\n    </defs>\r\n    <g clip-path=\"url(#pf52ed4477e)\">\r\n     <use style=\"fill:#ff0000;stroke:#ff0000;stroke-width:1.5;\" x=\"222.387458\" xlink:href=\"#meae0dca1f0\" y=\"35.541537\"/>\r\n     <use style=\"fill:#ff0000;stroke:#ff0000;stroke-width:1.5;\" x=\"228.843079\" xlink:href=\"#meae0dca1f0\" y=\"51.694041\"/>\r\n     <use style=\"fill:#ff0000;stroke:#ff0000;stroke-width:1.5;\" x=\"240.832089\" xlink:href=\"#meae0dca1f0\" y=\"68.615712\"/>\r\n     <use style=\"fill:#ff0000;stroke:#ff0000;stroke-width:1.5;\" x=\"274.035628\" xlink:href=\"#meae0dca1f0\" y=\"54.001541\"/>\r\n     <use style=\"fill:#ff0000;stroke:#ff0000;stroke-width:1.5;\" x=\"291.558028\" xlink:href=\"#meae0dca1f0\" y=\"57.078209\"/>\r\n     <use style=\"fill:#ff0000;stroke:#ff0000;stroke-width:1.5;\" x=\"289.713565\" xlink:href=\"#meae0dca1f0\" y=\"70.923212\"/>\r\n     <use style=\"fill:#ff0000;stroke:#ff0000;stroke-width:1.5;\" x=\"315.53765\" xlink:href=\"#meae0dca1f0\" y=\"80.922382\"/>\r\n     <use style=\"fill:#ff0000;stroke:#ff0000;stroke-width:1.5;\" x=\"341.361735\" xlink:href=\"#meae0dca1f0\" y=\"95.536552\"/>\r\n     <use style=\"fill:#ff0000;stroke:#ff0000;stroke-width:1.5;\" x=\"324.761567\" xlink:href=\"#meae0dca1f0\" y=\"104.766554\"/>\r\n     <use style=\"fill:#ff0000;stroke:#ff0000;stroke-width:1.5;\" x=\"346.896725\" xlink:href=\"#meae0dca1f0\" y=\"124.764261\"/>\r\n     <use style=\"fill:#ff0000;stroke:#ff0000;stroke-width:1.5;\" x=\"343.206198\" xlink:href=\"#meae0dca1f0\" y=\"132.455825\"/>\r\n     <use style=\"fill:#ff0000;stroke:#ff0000;stroke-width:1.5;\" x=\"331.217188\" xlink:href=\"#meae0dca1f0\" y=\"142.454889\"/>\r\n     <use style=\"fill:#ff0000;stroke:#ff0000;stroke-width:1.5;\" x=\"336.750577\" xlink:href=\"#meae0dca1f0\" y=\"155.530515\"/>\r\n     <use style=\"fill:#ff0000;stroke:#ff0000;stroke-width:1.5;\" x=\"329.372724\" xlink:href=\"#meae0dca1f0\" y=\"172.452186\"/>\r\n     <use style=\"fill:#ff0000;stroke:#ff0000;stroke-width:1.5;\" x=\"325.683798\" xlink:href=\"#meae0dca1f0\" y=\"188.60469\"/>\r\n     <use style=\"fill:#ff0000;stroke:#ff0000;stroke-width:1.5;\" x=\"320.148808\" xlink:href=\"#meae0dca1f0\" y=\"192.450525\"/>\r\n     <use style=\"fill:#ff0000;stroke:#ff0000;stroke-width:1.5;\" x=\"287.869102\" xlink:href=\"#meae0dca1f0\" y=\"211.679696\"/>\r\n     <use style=\"fill:#ff0000;stroke:#ff0000;stroke-width:1.5;\" x=\"275.880091\" xlink:href=\"#meae0dca1f0\" y=\"196.296359\"/>\r\n     <use style=\"fill:#ff0000;stroke:#ff0000;stroke-width:1.5;\" x=\"267.578406\" xlink:href=\"#meae0dca1f0\" y=\"177.836354\"/>\r\n     <use style=\"fill:#ff0000;stroke:#ff0000;stroke-width:1.5;\" x=\"249.133775\" xlink:href=\"#meae0dca1f0\" y=\"194.758025\"/>\r\n     <use style=\"fill:#ff0000;stroke:#ff0000;stroke-width:1.5;\" x=\"238.987626\" xlink:href=\"#meae0dca1f0\" y=\"214.756364\"/>\r\n     <use style=\"fill:#ff0000;stroke:#ff0000;stroke-width:1.5;\" x=\"206.70776\" xlink:href=\"#meae0dca1f0\" y=\"213.21803\"/>\r\n     <use style=\"fill:#ff0000;stroke:#ff0000;stroke-width:1.5;\" x=\"216.852468\" xlink:href=\"#meae0dca1f0\" y=\"194.758025\"/>\r\n     <use style=\"fill:#ff0000;stroke:#ff0000;stroke-width:1.5;\" x=\"171.66152\" xlink:href=\"#meae0dca1f0\" y=\"180.913022\"/>\r\n     <use style=\"fill:#ff0000;stroke:#ff0000;stroke-width:1.5;\" x=\"127.391202\" xlink:href=\"#meae0dca1f0\" y=\"177.067187\"/>\r\n     <use style=\"fill:#ff0000;stroke:#ff0000;stroke-width:1.5;\" x=\"130.157897\" xlink:href=\"#meae0dca1f0\" y=\"160.914683\"/>\r\n     <use style=\"fill:#ff0000;stroke:#ff0000;stroke-width:1.5;\" x=\"73.898569\" xlink:href=\"#meae0dca1f0\" y=\"160.914683\"/>\r\n     <use style=\"fill:#ff0000;stroke:#ff0000;stroke-width:1.5;\" x=\"81.276421\" xlink:href=\"#meae0dca1f0\" y=\"129.379157\"/>\r\n     <use style=\"fill:#ff0000;stroke:#ff0000;stroke-width:1.5;\" x=\"72.054106\" xlink:href=\"#meae0dca1f0\" y=\"103.228221\"/>\r\n     <use style=\"fill:#ff0000;stroke:#ff0000;stroke-width:1.5;\" x=\"81.276421\" xlink:href=\"#meae0dca1f0\" y=\"61.69321\"/>\r\n     <use style=\"fill:#ff0000;stroke:#ff0000;stroke-width:1.5;\" x=\"128.313434\" xlink:href=\"#meae0dca1f0\" y=\"59.385709\"/>\r\n     <use style=\"fill:#ff0000;stroke:#ff0000;stroke-width:1.5;\" x=\"132.00236\" xlink:href=\"#meae0dca1f0\" y=\"37.07987\"/>\r\n     <use style=\"fill:#ff0000;stroke:#ff0000;stroke-width:1.5;\" x=\"111.711664\" xlink:href=\"#meae0dca1f0\" y=\"38.618204\"/>\r\n     <use style=\"fill:#ff0000;stroke:#ff0000;stroke-width:1.5;\" x=\"105.256043\" xlink:href=\"#meae0dca1f0\" y=\"59.385709\"/>\r\n     <use style=\"fill:#ff0000;stroke:#ff0000;stroke-width:1.5;\" x=\"209.474615\" xlink:href=\"#meae0dca1f0\" y=\"51.694041\"/>\r\n     <use style=\"fill:#ff0000;stroke:#ff0000;stroke-width:1.5;\" x=\"202.096442\" xlink:href=\"#meae0dca1f0\" y=\"37.07987\"/>\r\n     <use style=\"fill:#ff0000;stroke:#ff0000;stroke-width:1.5;\" x=\"176.272677\" xlink:href=\"#meae0dca1f0\" y=\"29.388202\"/>\r\n     <use style=\"fill:#ff0000;stroke:#ff0000;stroke-width:1.5;\" x=\"179.961444\" xlink:href=\"#meae0dca1f0\" y=\"17.083636\"/>\r\n     <use style=\"fill:#ff0000;stroke:#ff0000;stroke-width:1.5;\" x=\"238.987626\" xlink:href=\"#meae0dca1f0\" y=\"19.38798\"/>\r\n     <use style=\"fill:#ff0000;stroke:#ff0000;stroke-width:1.5;\" x=\"256.511627\" xlink:href=\"#meae0dca1f0\" y=\"47.07904\"/>\r\n     <use style=\"fill:#ff0000;stroke:#ff0000;stroke-width:1.5;\" x=\"295.246954\" xlink:href=\"#meae0dca1f0\" y=\"40.156538\"/>\r\n     <use style=\"fill:#ff0000;stroke:#ff0000;stroke-width:1.5;\" x=\"324.761567\" xlink:href=\"#meae0dca1f0\" y=\"64.000711\"/>\r\n     <use style=\"fill:#ff0000;stroke:#ff0000;stroke-width:1.5;\" x=\"300.781945\" xlink:href=\"#meae0dca1f0\" y=\"66.308211\"/>\r\n     <use style=\"fill:#ff0000;stroke:#ff0000;stroke-width:1.5;\" x=\"364.427131\" xlink:href=\"#meae0dca1f0\" y=\"123.225507\"/>\r\n     <use style=\"fill:#ff0000;stroke:#ff0000;stroke-width:1.5;\" x=\"185.495153\" xlink:href=\"#meae0dca1f0\" y=\"194.758025\"/>\r\n     <use style=\"fill:#ff0000;stroke:#ff0000;stroke-width:1.5;\" x=\"155.05975\" xlink:href=\"#meae0dca1f0\" y=\"200.91136\"/>\r\n     <use style=\"fill:#ff0000;stroke:#ff0000;stroke-width:1.5;\" x=\"168.893224\" xlink:href=\"#meae0dca1f0\" y=\"172.452186\"/>\r\n     <use style=\"fill:#ff0000;stroke:#ff0000;stroke-width:1.5;\" x=\"114.478359\" xlink:href=\"#meae0dca1f0\" y=\"165.529684\"/>\r\n     <use style=\"fill:#ff0000;stroke:#ff0000;stroke-width:1.5;\" x=\"118.167285\" xlink:href=\"#meae0dca1f0\" y=\"147.838847\"/>\r\n     <use style=\"fill:#ff0000;stroke:#ff0000;stroke-width:1.5;\" x=\"146.759666\" xlink:href=\"#meae0dca1f0\" y=\"140.147494\"/>\r\n     <use style=\"fill:#ff0000;stroke:#ff0000;stroke-width:1.5;\" x=\"95.109895\" xlink:href=\"#meae0dca1f0\" y=\"140.916555\"/>\r\n     <use style=\"fill:#ff0000;stroke:#ff0000;stroke-width:1.5;\" x=\"86.809811\" xlink:href=\"#meae0dca1f0\" y=\"156.299682\"/>\r\n     <use style=\"fill:#ff0000;stroke:#ff0000;stroke-width:1.5;\" x=\"96.955959\" xlink:href=\"#meae0dca1f0\" y=\"177.836354\"/>\r\n     <use style=\"fill:#ff0000;stroke:#ff0000;stroke-width:1.5;\" x=\"76.665264\" xlink:href=\"#meae0dca1f0\" y=\"142.454889\"/>\r\n     <use style=\"fill:#ff0000;stroke:#ff0000;stroke-width:1.5;\" x=\"60.063494\" xlink:href=\"#meae0dca1f0\" y=\"100.92072\"/>\r\n     <use style=\"fill:#ff0000;stroke:#ff0000;stroke-width:1.5;\" x=\"77.587495\" xlink:href=\"#meae0dca1f0\" y=\"77.076547\"/>\r\n     <use style=\"fill:#ff0000;stroke:#ff0000;stroke-width:1.5;\" x=\"115.400591\" xlink:href=\"#meae0dca1f0\" y=\"28.619035\"/>\r\n     <use style=\"fill:#ff0000;stroke:#ff0000;stroke-width:1.5;\" x=\"191.951191\" xlink:href=\"#meae0dca1f0\" y=\"28.619035\"/>\r\n     <use style=\"fill:#ff0000;stroke:#ff0000;stroke-width:1.5;\" x=\"294.259078\" xlink:href=\"#meae0dca1f0\" y=\"136.984439\"/>\r\n     <use style=\"fill:#ff0000;stroke:#ff0000;stroke-width:1.5;\" x=\"97.878191\" xlink:href=\"#meae0dca1f0\" y=\"81.691548\"/>\r\n    </g>\r\n   </g>\r\n   <g id=\"matplotlib.axis_1\">\r\n    <g id=\"xtick_1\">\r\n     <g id=\"line2d_1\">\r\n      <defs>\r\n       <path d=\"M 0 0 \r\nL 0 3.5 \r\n\" id=\"m5ab0839135\" style=\"stroke:#000000;stroke-width:0.8;\"/>\r\n      </defs>\r\n      <g>\r\n       <use style=\"stroke:#000000;stroke-width:0.8;\" x=\"72.883474\" xlink:href=\"#m5ab0839135\" y=\"224.64\"/>\r\n      </g>\r\n     </g>\r\n     <g id=\"text_1\">\r\n      <!-- −0.75 -->\r\n      <g transform=\"translate(57.560818 239.238437)scale(0.1 -0.1)\">\r\n       <defs>\r\n        <path d=\"M 10.59375 35.5 \r\nL 73.1875 35.5 \r\nL 73.1875 27.203125 \r\nL 10.59375 27.203125 \r\nz\r\n\" id=\"DejaVuSans-8722\"/>\r\n        <path d=\"M 31.78125 66.40625 \r\nQ 24.171875 66.40625 20.328125 58.90625 \r\nQ 16.5 51.421875 16.5 36.375 \r\nQ 16.5 21.390625 20.328125 13.890625 \r\nQ 24.171875 6.390625 31.78125 6.390625 \r\nQ 39.453125 6.390625 43.28125 13.890625 \r\nQ 47.125 21.390625 47.125 36.375 \r\nQ 47.125 51.421875 43.28125 58.90625 \r\nQ 39.453125 66.40625 31.78125 66.40625 \r\nz\r\nM 31.78125 74.21875 \r\nQ 44.046875 74.21875 50.515625 64.515625 \r\nQ 56.984375 54.828125 56.984375 36.375 \r\nQ 56.984375 17.96875 50.515625 8.265625 \r\nQ 44.046875 -1.421875 31.78125 -1.421875 \r\nQ 19.53125 -1.421875 13.0625 8.265625 \r\nQ 6.59375 17.96875 6.59375 36.375 \r\nQ 6.59375 54.828125 13.0625 64.515625 \r\nQ 19.53125 74.21875 31.78125 74.21875 \r\nz\r\n\" id=\"DejaVuSans-48\"/>\r\n        <path d=\"M 10.6875 12.40625 \r\nL 21 12.40625 \r\nL 21 0 \r\nL 10.6875 0 \r\nz\r\n\" id=\"DejaVuSans-46\"/>\r\n        <path d=\"M 8.203125 72.90625 \r\nL 55.078125 72.90625 \r\nL 55.078125 68.703125 \r\nL 28.609375 0 \r\nL 18.3125 0 \r\nL 43.21875 64.59375 \r\nL 8.203125 64.59375 \r\nz\r\n\" id=\"DejaVuSans-55\"/>\r\n        <path d=\"M 10.796875 72.90625 \r\nL 49.515625 72.90625 \r\nL 49.515625 64.59375 \r\nL 19.828125 64.59375 \r\nL 19.828125 46.734375 \r\nQ 21.96875 47.46875 24.109375 47.828125 \r\nQ 26.265625 48.1875 28.421875 48.1875 \r\nQ 40.625 48.1875 47.75 41.5 \r\nQ 54.890625 34.8125 54.890625 23.390625 \r\nQ 54.890625 11.625 47.5625 5.09375 \r\nQ 40.234375 -1.421875 26.90625 -1.421875 \r\nQ 22.3125 -1.421875 17.546875 -0.640625 \r\nQ 12.796875 0.140625 7.71875 1.703125 \r\nL 7.71875 11.625 \r\nQ 12.109375 9.234375 16.796875 8.0625 \r\nQ 21.484375 6.890625 26.703125 6.890625 \r\nQ 35.15625 6.890625 40.078125 11.328125 \r\nQ 45.015625 15.765625 45.015625 23.390625 \r\nQ 45.015625 31 40.078125 35.4375 \r\nQ 35.15625 39.890625 26.703125 39.890625 \r\nQ 22.75 39.890625 18.8125 39.015625 \r\nQ 14.890625 38.140625 10.796875 36.28125 \r\nz\r\n\" id=\"DejaVuSans-53\"/>\r\n       </defs>\r\n       <use xlink:href=\"#DejaVuSans-8722\"/>\r\n       <use x=\"83.789062\" xlink:href=\"#DejaVuSans-48\"/>\r\n       <use x=\"147.412109\" xlink:href=\"#DejaVuSans-46\"/>\r\n       <use x=\"179.199219\" xlink:href=\"#DejaVuSans-55\"/>\r\n       <use x=\"242.822266\" xlink:href=\"#DejaVuSans-53\"/>\r\n      </g>\r\n     </g>\r\n    </g>\r\n    <g id=\"xtick_2\">\r\n     <g id=\"line2d_2\">\r\n      <g>\r\n       <use style=\"stroke:#000000;stroke-width:0.8;\" x=\"112.910886\" xlink:href=\"#m5ab0839135\" y=\"224.64\"/>\r\n      </g>\r\n     </g>\r\n     <g id=\"text_2\">\r\n      <!-- −0.50 -->\r\n      <g transform=\"translate(97.588229 239.238437)scale(0.1 -0.1)\">\r\n       <use xlink:href=\"#DejaVuSans-8722\"/>\r\n       <use x=\"83.789062\" xlink:href=\"#DejaVuSans-48\"/>\r\n       <use x=\"147.412109\" xlink:href=\"#DejaVuSans-46\"/>\r\n       <use x=\"179.199219\" xlink:href=\"#DejaVuSans-53\"/>\r\n       <use x=\"242.822266\" xlink:href=\"#DejaVuSans-48\"/>\r\n      </g>\r\n     </g>\r\n    </g>\r\n    <g id=\"xtick_3\">\r\n     <g id=\"line2d_3\">\r\n      <g>\r\n       <use style=\"stroke:#000000;stroke-width:0.8;\" x=\"152.938297\" xlink:href=\"#m5ab0839135\" y=\"224.64\"/>\r\n      </g>\r\n     </g>\r\n     <g id=\"text_3\">\r\n      <!-- −0.25 -->\r\n      <g transform=\"translate(137.615641 239.238437)scale(0.1 -0.1)\">\r\n       <defs>\r\n        <path d=\"M 19.1875 8.296875 \r\nL 53.609375 8.296875 \r\nL 53.609375 0 \r\nL 7.328125 0 \r\nL 7.328125 8.296875 \r\nQ 12.9375 14.109375 22.625 23.890625 \r\nQ 32.328125 33.6875 34.8125 36.53125 \r\nQ 39.546875 41.84375 41.421875 45.53125 \r\nQ 43.3125 49.21875 43.3125 52.78125 \r\nQ 43.3125 58.59375 39.234375 62.25 \r\nQ 35.15625 65.921875 28.609375 65.921875 \r\nQ 23.96875 65.921875 18.8125 64.3125 \r\nQ 13.671875 62.703125 7.8125 59.421875 \r\nL 7.8125 69.390625 \r\nQ 13.765625 71.78125 18.9375 73 \r\nQ 24.125 74.21875 28.421875 74.21875 \r\nQ 39.75 74.21875 46.484375 68.546875 \r\nQ 53.21875 62.890625 53.21875 53.421875 \r\nQ 53.21875 48.921875 51.53125 44.890625 \r\nQ 49.859375 40.875 45.40625 35.40625 \r\nQ 44.1875 33.984375 37.640625 27.21875 \r\nQ 31.109375 20.453125 19.1875 8.296875 \r\nz\r\n\" id=\"DejaVuSans-50\"/>\r\n       </defs>\r\n       <use xlink:href=\"#DejaVuSans-8722\"/>\r\n       <use x=\"83.789062\" xlink:href=\"#DejaVuSans-48\"/>\r\n       <use x=\"147.412109\" xlink:href=\"#DejaVuSans-46\"/>\r\n       <use x=\"179.199219\" xlink:href=\"#DejaVuSans-50\"/>\r\n       <use x=\"242.822266\" xlink:href=\"#DejaVuSans-53\"/>\r\n      </g>\r\n     </g>\r\n    </g>\r\n    <g id=\"xtick_4\">\r\n     <g id=\"line2d_4\">\r\n      <g>\r\n       <use style=\"stroke:#000000;stroke-width:0.8;\" x=\"192.965709\" xlink:href=\"#m5ab0839135\" y=\"224.64\"/>\r\n      </g>\r\n     </g>\r\n     <g id=\"text_4\">\r\n      <!-- 0.00 -->\r\n      <g transform=\"translate(181.832897 239.238437)scale(0.1 -0.1)\">\r\n       <use xlink:href=\"#DejaVuSans-48\"/>\r\n       <use x=\"63.623047\" xlink:href=\"#DejaVuSans-46\"/>\r\n       <use x=\"95.410156\" xlink:href=\"#DejaVuSans-48\"/>\r\n       <use x=\"159.033203\" xlink:href=\"#DejaVuSans-48\"/>\r\n      </g>\r\n     </g>\r\n    </g>\r\n    <g id=\"xtick_5\">\r\n     <g id=\"line2d_5\">\r\n      <g>\r\n       <use style=\"stroke:#000000;stroke-width:0.8;\" x=\"232.993121\" xlink:href=\"#m5ab0839135\" y=\"224.64\"/>\r\n      </g>\r\n     </g>\r\n     <g id=\"text_5\">\r\n      <!-- 0.25 -->\r\n      <g transform=\"translate(221.860309 239.238437)scale(0.1 -0.1)\">\r\n       <use xlink:href=\"#DejaVuSans-48\"/>\r\n       <use x=\"63.623047\" xlink:href=\"#DejaVuSans-46\"/>\r\n       <use x=\"95.410156\" xlink:href=\"#DejaVuSans-50\"/>\r\n       <use x=\"159.033203\" xlink:href=\"#DejaVuSans-53\"/>\r\n      </g>\r\n     </g>\r\n    </g>\r\n    <g id=\"xtick_6\">\r\n     <g id=\"line2d_6\">\r\n      <g>\r\n       <use style=\"stroke:#000000;stroke-width:0.8;\" x=\"273.020533\" xlink:href=\"#m5ab0839135\" y=\"224.64\"/>\r\n      </g>\r\n     </g>\r\n     <g id=\"text_6\">\r\n      <!-- 0.50 -->\r\n      <g transform=\"translate(261.88772 239.238437)scale(0.1 -0.1)\">\r\n       <use xlink:href=\"#DejaVuSans-48\"/>\r\n       <use x=\"63.623047\" xlink:href=\"#DejaVuSans-46\"/>\r\n       <use x=\"95.410156\" xlink:href=\"#DejaVuSans-53\"/>\r\n       <use x=\"159.033203\" xlink:href=\"#DejaVuSans-48\"/>\r\n      </g>\r\n     </g>\r\n    </g>\r\n    <g id=\"xtick_7\">\r\n     <g id=\"line2d_7\">\r\n      <g>\r\n       <use style=\"stroke:#000000;stroke-width:0.8;\" x=\"313.047945\" xlink:href=\"#m5ab0839135\" y=\"224.64\"/>\r\n      </g>\r\n     </g>\r\n     <g id=\"text_7\">\r\n      <!-- 0.75 -->\r\n      <g transform=\"translate(301.915132 239.238437)scale(0.1 -0.1)\">\r\n       <use xlink:href=\"#DejaVuSans-48\"/>\r\n       <use x=\"63.623047\" xlink:href=\"#DejaVuSans-46\"/>\r\n       <use x=\"95.410156\" xlink:href=\"#DejaVuSans-55\"/>\r\n       <use x=\"159.033203\" xlink:href=\"#DejaVuSans-53\"/>\r\n      </g>\r\n     </g>\r\n    </g>\r\n    <g id=\"xtick_8\">\r\n     <g id=\"line2d_8\">\r\n      <g>\r\n       <use style=\"stroke:#000000;stroke-width:0.8;\" x=\"353.075357\" xlink:href=\"#m5ab0839135\" y=\"224.64\"/>\r\n      </g>\r\n     </g>\r\n     <g id=\"text_8\">\r\n      <!-- 1.00 -->\r\n      <g transform=\"translate(341.942544 239.238437)scale(0.1 -0.1)\">\r\n       <defs>\r\n        <path d=\"M 12.40625 8.296875 \r\nL 28.515625 8.296875 \r\nL 28.515625 63.921875 \r\nL 10.984375 60.40625 \r\nL 10.984375 69.390625 \r\nL 28.421875 72.90625 \r\nL 38.28125 72.90625 \r\nL 38.28125 8.296875 \r\nL 54.390625 8.296875 \r\nL 54.390625 0 \r\nL 12.40625 0 \r\nz\r\n\" id=\"DejaVuSans-49\"/>\r\n       </defs>\r\n       <use xlink:href=\"#DejaVuSans-49\"/>\r\n       <use x=\"63.623047\" xlink:href=\"#DejaVuSans-46\"/>\r\n       <use x=\"95.410156\" xlink:href=\"#DejaVuSans-48\"/>\r\n       <use x=\"159.033203\" xlink:href=\"#DejaVuSans-48\"/>\r\n      </g>\r\n     </g>\r\n    </g>\r\n   </g>\r\n   <g id=\"matplotlib.axis_2\">\r\n    <g id=\"ytick_1\">\r\n     <g id=\"line2d_9\">\r\n      <defs>\r\n       <path d=\"M 0 0 \r\nL -3.5 0 \r\n\" id=\"mf846f6ebb3\" style=\"stroke:#000000;stroke-width:0.8;\"/>\r\n      </defs>\r\n      <g>\r\n       <use style=\"stroke:#000000;stroke-width:0.8;\" x=\"44.845313\" xlink:href=\"#mf846f6ebb3\" y=\"212.679297\"/>\r\n      </g>\r\n     </g>\r\n     <g id=\"text_9\">\r\n      <!-- −0.75 -->\r\n      <g transform=\"translate(7.2 216.478516)scale(0.1 -0.1)\">\r\n       <use xlink:href=\"#DejaVuSans-8722\"/>\r\n       <use x=\"83.789062\" xlink:href=\"#DejaVuSans-48\"/>\r\n       <use x=\"147.412109\" xlink:href=\"#DejaVuSans-46\"/>\r\n       <use x=\"179.199219\" xlink:href=\"#DejaVuSans-55\"/>\r\n       <use x=\"242.822266\" xlink:href=\"#DejaVuSans-53\"/>\r\n      </g>\r\n     </g>\r\n    </g>\r\n    <g id=\"ytick_2\">\r\n     <g id=\"line2d_10\">\r\n      <g>\r\n       <use style=\"stroke:#000000;stroke-width:0.8;\" x=\"44.845313\" xlink:href=\"#mf846f6ebb3\" y=\"186.374001\"/>\r\n      </g>\r\n     </g>\r\n     <g id=\"text_10\">\r\n      <!-- −0.50 -->\r\n      <g transform=\"translate(7.2 190.17322)scale(0.1 -0.1)\">\r\n       <use xlink:href=\"#DejaVuSans-8722\"/>\r\n       <use x=\"83.789062\" xlink:href=\"#DejaVuSans-48\"/>\r\n       <use x=\"147.412109\" xlink:href=\"#DejaVuSans-46\"/>\r\n       <use x=\"179.199219\" xlink:href=\"#DejaVuSans-53\"/>\r\n       <use x=\"242.822266\" xlink:href=\"#DejaVuSans-48\"/>\r\n      </g>\r\n     </g>\r\n    </g>\r\n    <g id=\"ytick_3\">\r\n     <g id=\"line2d_11\">\r\n      <g>\r\n       <use style=\"stroke:#000000;stroke-width:0.8;\" x=\"44.845313\" xlink:href=\"#mf846f6ebb3\" y=\"160.068705\"/>\r\n      </g>\r\n     </g>\r\n     <g id=\"text_11\">\r\n      <!-- −0.25 -->\r\n      <g transform=\"translate(7.2 163.867924)scale(0.1 -0.1)\">\r\n       <use xlink:href=\"#DejaVuSans-8722\"/>\r\n       <use x=\"83.789062\" xlink:href=\"#DejaVuSans-48\"/>\r\n       <use x=\"147.412109\" xlink:href=\"#DejaVuSans-46\"/>\r\n       <use x=\"179.199219\" xlink:href=\"#DejaVuSans-50\"/>\r\n       <use x=\"242.822266\" xlink:href=\"#DejaVuSans-53\"/>\r\n      </g>\r\n     </g>\r\n    </g>\r\n    <g id=\"ytick_4\">\r\n     <g id=\"line2d_12\">\r\n      <g>\r\n       <use style=\"stroke:#000000;stroke-width:0.8;\" x=\"44.845313\" xlink:href=\"#mf846f6ebb3\" y=\"133.763409\"/>\r\n      </g>\r\n     </g>\r\n     <g id=\"text_12\">\r\n      <!-- 0.00 -->\r\n      <g transform=\"translate(15.579688 137.562627)scale(0.1 -0.1)\">\r\n       <use xlink:href=\"#DejaVuSans-48\"/>\r\n       <use x=\"63.623047\" xlink:href=\"#DejaVuSans-46\"/>\r\n       <use x=\"95.410156\" xlink:href=\"#DejaVuSans-48\"/>\r\n       <use x=\"159.033203\" xlink:href=\"#DejaVuSans-48\"/>\r\n      </g>\r\n     </g>\r\n    </g>\r\n    <g id=\"ytick_5\">\r\n     <g id=\"line2d_13\">\r\n      <g>\r\n       <use style=\"stroke:#000000;stroke-width:0.8;\" x=\"44.845313\" xlink:href=\"#mf846f6ebb3\" y=\"107.458112\"/>\r\n      </g>\r\n     </g>\r\n     <g id=\"text_13\">\r\n      <!-- 0.25 -->\r\n      <g transform=\"translate(15.579688 111.257331)scale(0.1 -0.1)\">\r\n       <use xlink:href=\"#DejaVuSans-48\"/>\r\n       <use x=\"63.623047\" xlink:href=\"#DejaVuSans-46\"/>\r\n       <use x=\"95.410156\" xlink:href=\"#DejaVuSans-50\"/>\r\n       <use x=\"159.033203\" xlink:href=\"#DejaVuSans-53\"/>\r\n      </g>\r\n     </g>\r\n    </g>\r\n    <g id=\"ytick_6\">\r\n     <g id=\"line2d_14\">\r\n      <g>\r\n       <use style=\"stroke:#000000;stroke-width:0.8;\" x=\"44.845313\" xlink:href=\"#mf846f6ebb3\" y=\"81.152816\"/>\r\n      </g>\r\n     </g>\r\n     <g id=\"text_14\">\r\n      <!-- 0.50 -->\r\n      <g transform=\"translate(15.579688 84.952035)scale(0.1 -0.1)\">\r\n       <use xlink:href=\"#DejaVuSans-48\"/>\r\n       <use x=\"63.623047\" xlink:href=\"#DejaVuSans-46\"/>\r\n       <use x=\"95.410156\" xlink:href=\"#DejaVuSans-53\"/>\r\n       <use x=\"159.033203\" xlink:href=\"#DejaVuSans-48\"/>\r\n      </g>\r\n     </g>\r\n    </g>\r\n    <g id=\"ytick_7\">\r\n     <g id=\"line2d_15\">\r\n      <g>\r\n       <use style=\"stroke:#000000;stroke-width:0.8;\" x=\"44.845313\" xlink:href=\"#mf846f6ebb3\" y=\"54.84752\"/>\r\n      </g>\r\n     </g>\r\n     <g id=\"text_15\">\r\n      <!-- 0.75 -->\r\n      <g transform=\"translate(15.579688 58.646738)scale(0.1 -0.1)\">\r\n       <use xlink:href=\"#DejaVuSans-48\"/>\r\n       <use x=\"63.623047\" xlink:href=\"#DejaVuSans-46\"/>\r\n       <use x=\"95.410156\" xlink:href=\"#DejaVuSans-55\"/>\r\n       <use x=\"159.033203\" xlink:href=\"#DejaVuSans-53\"/>\r\n      </g>\r\n     </g>\r\n    </g>\r\n    <g id=\"ytick_8\">\r\n     <g id=\"line2d_16\">\r\n      <g>\r\n       <use style=\"stroke:#000000;stroke-width:0.8;\" x=\"44.845313\" xlink:href=\"#mf846f6ebb3\" y=\"28.542223\"/>\r\n      </g>\r\n     </g>\r\n     <g id=\"text_16\">\r\n      <!-- 1.00 -->\r\n      <g transform=\"translate(15.579688 32.341442)scale(0.1 -0.1)\">\r\n       <use xlink:href=\"#DejaVuSans-49\"/>\r\n       <use x=\"63.623047\" xlink:href=\"#DejaVuSans-46\"/>\r\n       <use x=\"95.410156\" xlink:href=\"#DejaVuSans-48\"/>\r\n       <use x=\"159.033203\" xlink:href=\"#DejaVuSans-48\"/>\r\n      </g>\r\n     </g>\r\n    </g>\r\n   </g>\r\n   <g id=\"patch_3\">\r\n    <path d=\"M 44.845313 224.64 \r\nL 44.845313 7.2 \r\n\" style=\"fill:none;stroke:#000000;stroke-linecap:square;stroke-linejoin:miter;stroke-width:0.8;\"/>\r\n   </g>\r\n   <g id=\"patch_4\">\r\n    <path d=\"M 379.645313 224.64 \r\nL 379.645313 7.2 \r\n\" style=\"fill:none;stroke:#000000;stroke-linecap:square;stroke-linejoin:miter;stroke-width:0.8;\"/>\r\n   </g>\r\n   <g id=\"patch_5\">\r\n    <path d=\"M 44.845312 224.64 \r\nL 379.645313 224.64 \r\n\" style=\"fill:none;stroke:#000000;stroke-linecap:square;stroke-linejoin:miter;stroke-width:0.8;\"/>\r\n   </g>\r\n   <g id=\"patch_6\">\r\n    <path d=\"M 44.845312 7.2 \r\nL 379.645313 7.2 \r\n\" style=\"fill:none;stroke:#000000;stroke-linecap:square;stroke-linejoin:miter;stroke-width:0.8;\"/>\r\n   </g>\r\n  </g>\r\n </g>\r\n <defs>\r\n  <clipPath id=\"pf52ed4477e\">\r\n   <rect height=\"217.44\" width=\"334.8\" x=\"44.845313\" y=\"7.2\"/>\r\n  </clipPath>\r\n </defs>\r\n</svg>\r\n",
      "image/png": "[encoded data removed]"
     },
     "metadata": {
      "needs_background": "light"
     }
    }
   ],
   "source": [
    "plot_data(X, y)"
   ]
  },
  {
   "cell_type": "code",
   "execution_count": 16,
   "metadata": {
    "collapsed": true
   },
   "outputs": [],
   "source": [
    "X_new, mean, std = normalize(X)"
   ]
  },
  {
   "cell_type": "code",
   "execution_count": 17,
   "metadata": {},
   "outputs": [],
   "source": [
    "X_new = prepare_X(X_new)\n",
    "y=y.to_numpy()\n",
    "y_new = y.reshape((X.shape[0], 1))"
   ]
  },
  {
   "cell_type": "code",
   "execution_count": 18,
   "metadata": {},
   "outputs": [],
   "source": [
    "theta = np.zeros((X_new.shape[1], 1))"
   ]
  },
  {
   "cell_type": "code",
   "execution_count": 19,
   "metadata": {},
   "outputs": [
    {
     "output_type": "execute_result",
     "data": {
      "text/plain": [
       "array([[-1.44269504],\n",
       "       [-1.44269504],\n",
       "       [-1.44269504],\n",
       "       [-1.44269504],\n",
       "       [-1.44269504],\n",
       "       [-1.44269504],\n",
       "       [-1.44269504],\n",
       "       [-1.44269504],\n",
       "       [-1.44269504],\n",
       "       [-1.44269504],\n",
       "       [-1.44269504],\n",
       "       [-1.44269504],\n",
       "       [-1.44269504],\n",
       "       [-1.44269504],\n",
       "       [-1.44269504],\n",
       "       [-1.44269504],\n",
       "       [-1.44269504],\n",
       "       [-1.44269504],\n",
       "       [-1.44269504],\n",
       "       [-1.44269504],\n",
       "       [-1.44269504],\n",
       "       [-1.44269504],\n",
       "       [-1.44269504],\n",
       "       [-1.44269504],\n",
       "       [-1.44269504],\n",
       "       [-1.44269504],\n",
       "       [-1.44269504],\n",
       "       [-1.44269504],\n",
       "       [-1.44269504],\n",
       "       [-1.44269504],\n",
       "       [-1.44269504],\n",
       "       [-1.44269504],\n",
       "       [-1.44269504],\n",
       "       [-1.44269504],\n",
       "       [-1.44269504],\n",
       "       [-1.44269504],\n",
       "       [-1.44269504],\n",
       "       [-1.44269504],\n",
       "       [-1.44269504],\n",
       "       [-1.44269504],\n",
       "       [-1.44269504],\n",
       "       [-1.44269504],\n",
       "       [-1.44269504],\n",
       "       [-1.44269504],\n",
       "       [-1.44269504],\n",
       "       [-1.44269504],\n",
       "       [-1.44269504],\n",
       "       [-1.44269504],\n",
       "       [-1.44269504],\n",
       "       [-1.44269504],\n",
       "       [-1.44269504],\n",
       "       [-1.44269504],\n",
       "       [-1.44269504],\n",
       "       [-1.44269504],\n",
       "       [-1.44269504],\n",
       "       [-1.44269504],\n",
       "       [-1.44269504],\n",
       "       [-1.44269504],\n",
       "       [-1.44269504],\n",
       "       [-1.44269504],\n",
       "       [-1.44269504],\n",
       "       [-1.44269504],\n",
       "       [-1.44269504],\n",
       "       [-1.44269504],\n",
       "       [-1.44269504],\n",
       "       [-1.44269504],\n",
       "       [-1.44269504],\n",
       "       [-1.44269504],\n",
       "       [-1.44269504],\n",
       "       [-1.44269504],\n",
       "       [-1.44269504],\n",
       "       [-1.44269504],\n",
       "       [-1.44269504],\n",
       "       [-1.44269504],\n",
       "       [-1.44269504],\n",
       "       [-1.44269504],\n",
       "       [-1.44269504],\n",
       "       [-1.44269504],\n",
       "       [-1.44269504],\n",
       "       [-1.44269504],\n",
       "       [-1.44269504],\n",
       "       [-1.44269504],\n",
       "       [-1.44269504],\n",
       "       [-1.44269504],\n",
       "       [-1.44269504],\n",
       "       [-1.44269504],\n",
       "       [-1.44269504],\n",
       "       [-1.44269504],\n",
       "       [-1.44269504],\n",
       "       [-1.44269504],\n",
       "       [-1.44269504],\n",
       "       [-1.44269504],\n",
       "       [-1.44269504],\n",
       "       [-1.44269504],\n",
       "       [-1.44269504],\n",
       "       [-1.44269504],\n",
       "       [-1.44269504],\n",
       "       [-1.44269504],\n",
       "       [-1.44269504],\n",
       "       [-1.44269504],\n",
       "       [-1.44269504],\n",
       "       [-1.44269504],\n",
       "       [-1.44269504],\n",
       "       [-1.44269504],\n",
       "       [-1.44269504],\n",
       "       [-1.44269504],\n",
       "       [-1.44269504],\n",
       "       [-1.44269504],\n",
       "       [-1.44269504],\n",
       "       [-1.44269504],\n",
       "       [-1.44269504],\n",
       "       [-1.44269504],\n",
       "       [-1.44269504],\n",
       "       [-1.44269504],\n",
       "       [-1.44269504],\n",
       "       [-1.44269504],\n",
       "       [-1.44269504],\n",
       "       [-1.44269504]])"
      ]
     },
     "metadata": {},
     "execution_count": 19
    }
   ],
   "source": [
    "cost_function(X_new, y_new, theta)"
   ]
  },
  {
   "cell_type": "code",
   "execution_count": 20,
   "metadata": {
    "scrolled": true
   },
   "outputs": [
    {
     "output_type": "stream",
     "name": "stdout",
     "text": [
      "[[-0.03413064]\n [-0.15010481]\n [-0.00938385]] 14096\n"
     ]
    }
   ],
   "source": [
    "new_theta, Js = gradient_descent(X_new, y_new, theta, 0.01, 1e-7, 1000000, False)\n",
    "print(new_theta, len(Js))"
   ]
  },
  {
   "cell_type": "code",
   "execution_count": 21,
   "metadata": {},
   "outputs": [
    {
     "output_type": "execute_result",
     "data": {
      "text/plain": [
       "array([[-1.44108747],\n",
       "       [-1.48774614],\n",
       "       [-1.40371814],\n",
       "       [-1.35238088],\n",
       "       [-1.31244026],\n",
       "       [-1.30499614],\n",
       "       [-1.33769523],\n",
       "       [-1.36042992],\n",
       "       [-1.45517508],\n",
       "       [-1.49043007],\n",
       "       [-1.57599418],\n",
       "       [-1.62904258],\n",
       "       [-1.67647323],\n",
       "       [-1.71592121],\n",
       "       [-1.65801885],\n",
       "       [-1.57783341],\n",
       "       [-1.52299582],\n",
       "       [-1.45823375],\n",
       "       [-1.41621057],\n",
       "       [-1.32495405],\n",
       "       [-1.28921681],\n",
       "       [-1.27872036],\n",
       "       [-1.28274596],\n",
       "       [-1.32593183],\n",
       "       [-1.41378013],\n",
       "       [-1.51167932],\n",
       "       [-1.60552347],\n",
       "       [-1.68304402],\n",
       "       [-1.42406971],\n",
       "       [-1.38098658],\n",
       "       [-1.39289961],\n",
       "       [-1.4216607 ],\n",
       "       [-1.41526857],\n",
       "       [-1.37895423],\n",
       "       [-1.35242909],\n",
       "       [-1.36595958],\n",
       "       [-1.38045324],\n",
       "       [-1.43380578],\n",
       "       [-1.47466773],\n",
       "       [-1.52523523],\n",
       "       [-1.55072776],\n",
       "       [-1.61947057],\n",
       "       [-1.68103544],\n",
       "       [-1.6153516 ],\n",
       "       [-1.68127163],\n",
       "       [-1.66396513],\n",
       "       [-1.72623593],\n",
       "       [-1.54238216],\n",
       "       [-1.62342708],\n",
       "       [-1.58015904],\n",
       "       [-1.51400968],\n",
       "       [-1.46318769],\n",
       "       [-1.43861103],\n",
       "       [-1.39936098],\n",
       "       [-1.39605306],\n",
       "       [-1.32932266],\n",
       "       [-1.38915512],\n",
       "       [-1.40898716],\n",
       "       [-1.53692912],\n",
       "       [-1.54765892],\n",
       "       [-1.57045763],\n",
       "       [-1.64891976],\n",
       "       [-1.68997015],\n",
       "       [-1.68248786],\n",
       "       [-1.74377189],\n",
       "       [-1.80679027],\n",
       "       [-1.76163858],\n",
       "       [-1.81438096],\n",
       "       [-1.80281983],\n",
       "       [-1.76938037],\n",
       "       [-1.78055725],\n",
       "       [-1.75771599],\n",
       "       [-1.74467227],\n",
       "       [-1.72993738],\n",
       "       [-1.64774948],\n",
       "       [-1.62318576],\n",
       "       [-1.60806023],\n",
       "       [-1.56350841],\n",
       "       [-1.5375921 ],\n",
       "       [-1.47066704],\n",
       "       [-1.49483796],\n",
       "       [-1.40754255],\n",
       "       [-1.32684309],\n",
       "       [-1.33435316],\n",
       "       [-1.23902717],\n",
       "       [-1.255689  ],\n",
       "       [-1.2445226 ],\n",
       "       [-1.26584112],\n",
       "       [-1.34758416],\n",
       "       [-1.35794622],\n",
       "       [-1.32139103],\n",
       "       [-1.3068389 ],\n",
       "       [-1.50652268],\n",
       "       [-1.49396427],\n",
       "       [-1.44324155],\n",
       "       [-1.45277105],\n",
       "       [-1.57626373],\n",
       "       [-1.60992095],\n",
       "       [-1.70266997],\n",
       "       [-1.77111329],\n",
       "       [-1.7104007 ],\n",
       "       [-1.86186639],\n",
       "       [-1.43183359],\n",
       "       [-1.37293016],\n",
       "       [-1.40373069],\n",
       "       [-1.30610126],\n",
       "       [-1.31530822],\n",
       "       [-1.36781027],\n",
       "       [-1.27690807],\n",
       "       [-1.26076776],\n",
       "       [-1.274377  ],\n",
       "       [-1.24621932],\n",
       "       [-1.22561632],\n",
       "       [-1.25743909],\n",
       "       [-1.32950268],\n",
       "       [-1.47476786],\n",
       "       [-1.6789831 ],\n",
       "       [-1.29068964]])"
      ]
     },
     "metadata": {},
     "execution_count": 21
    }
   ],
   "source": [
    "cost_function(X_new, y_new, new_theta)"
   ]
  },
  {
   "cell_type": "code",
   "execution_count": 22,
   "metadata": {},
   "outputs": [
    {
     "output_type": "display_data",
     "data": {
      "text/plain": "<Figure size 432x288 with 1 Axes>",
      "image/svg+xml": "<?xml version=\"1.0\" encoding=\"utf-8\" standalone=\"no\"?>\r\n<!DOCTYPE svg PUBLIC \"-//W3C//DTD SVG 1.1//EN\"\r\n  \"http://www.w3.org/Graphics/SVG/1.1/DTD/svg11.dtd\">\r\n<!-- Created with matplotlib (https://matplotlib.org/) -->\r\n<svg height=\"248.518125pt\" version=\"1.1\" viewBox=\"0 0 380.482812 248.518125\" width=\"380.482812pt\" xmlns=\"http://www.w3.org/2000/svg\" xmlns:xlink=\"http://www.w3.org/1999/xlink\">\r\n <metadata>\r\n  <rdf:RDF xmlns:cc=\"http://creativecommons.org/ns#\" xmlns:dc=\"http://purl.org/dc/elements/1.1/\" xmlns:rdf=\"http://www.w3.org/1999/02/22-rdf-syntax-ns#\">\r\n   <cc:Work>\r\n    <dc:type rdf:resource=\"http://purl.org/dc/dcmitype/StillImage\"/>\r\n    <dc:date>2021-03-30T01:37:05.195033</dc:date>\r\n    <dc:format>image/svg+xml</dc:format>\r\n    <dc:creator>\r\n     <cc:Agent>\r\n      <dc:title>Matplotlib v3.3.2, https://matplotlib.org/</dc:title>\r\n     </cc:Agent>\r\n    </dc:creator>\r\n   </cc:Work>\r\n  </rdf:RDF>\r\n </metadata>\r\n <defs>\r\n  <style type=\"text/css\">*{stroke-linecap:butt;stroke-linejoin:round;}</style>\r\n </defs>\r\n <g id=\"figure_1\">\r\n  <g id=\"patch_1\">\r\n   <path d=\"M -0 248.518125 \r\nL 380.482812 248.518125 \r\nL 380.482812 0 \r\nL -0 0 \r\nz\r\n\" style=\"fill:none;\"/>\r\n  </g>\r\n  <g id=\"axes_1\">\r\n   <g id=\"patch_2\">\r\n    <path d=\"M 38.482813 224.64 \r\nL 373.282813 224.64 \r\nL 373.282813 7.2 \r\nL 38.482813 7.2 \r\nz\r\n\" style=\"fill:#ffffff;\"/>\r\n   </g>\r\n   <g id=\"PathCollection_1\">\r\n    <defs>\r\n     <path d=\"M -3 3 \r\nL 3 -3 \r\nM -3 -3 \r\nL 3 3 \r\n\" id=\"m112383241d\" style=\"stroke:#ffff00;stroke-width:1.5;\"/>\r\n    </defs>\r\n    <g clip-path=\"url(#pb717bd116b)\">\r\n     <use style=\"fill:#ffff00;stroke:#ffff00;stroke-width:1.5;\" x=\"171.75432\" xlink:href=\"#m112383241d\" y=\"61.69321\"/>\r\n     <use style=\"fill:#ffff00;stroke:#ffff00;stroke-width:1.5;\" x=\"194.811551\" xlink:href=\"#m112383241d\" y=\"60.154876\"/>\r\n     <use style=\"fill:#ffff00;stroke:#ffff00;stroke-width:1.5;\" x=\"152.386177\" xlink:href=\"#m112383241d\" y=\"60.924043\"/>\r\n     <use style=\"fill:#ffff00;stroke:#ffff00;stroke-width:1.5;\" x=\"126.562092\" xlink:href=\"#m112383241d\" y=\"80.922382\"/>\r\n     <use style=\"fill:#ffff00;stroke:#ffff00;stroke-width:1.5;\" x=\"104.426933\" xlink:href=\"#m112383241d\" y=\"84.768216\"/>\r\n     <use style=\"fill:#ffff00;stroke:#ffff00;stroke-width:1.5;\" x=\"102.58247\" xlink:href=\"#m112383241d\" y=\"111.688004\"/>\r\n     <use style=\"fill:#ffff00;stroke:#ffff00;stroke-width:1.5;\" x=\"122.873165\" xlink:href=\"#m112383241d\" y=\"130.148324\"/>\r\n     <use style=\"fill:#ffff00;stroke:#ffff00;stroke-width:1.5;\" x=\"137.62887\" xlink:href=\"#m112383241d\" y=\"153.992181\"/>\r\n     <use style=\"fill:#ffff00;stroke:#ffff00;stroke-width:1.5;\" x=\"189.277841\" xlink:href=\"#m112383241d\" y=\"176.29802\"/>\r\n     <use style=\"fill:#ffff00;stroke:#ffff00;stroke-width:1.5;\" x=\"207.723273\" xlink:href=\"#m112383241d\" y=\"187.835523\"/>\r\n     <use style=\"fill:#ffff00;stroke:#ffff00;stroke-width:1.5;\" x=\"248.304664\" xlink:href=\"#m112383241d\" y=\"193.219691\"/>\r\n     <use style=\"fill:#ffff00;stroke:#ffff00;stroke-width:1.5;\" x=\"271.362054\" xlink:href=\"#m112383241d\" y=\"188.60469\"/>\r\n     <use style=\"fill:#ffff00;stroke:#ffff00;stroke-width:1.5;\" x=\"288.884454\" xlink:href=\"#m112383241d\" y=\"159.376349\"/>\r\n     <use style=\"fill:#ffff00;stroke:#ffff00;stroke-width:1.5;\" x=\"304.563992\" xlink:href=\"#m112383241d\" y=\"153.223015\"/>\r\n     <use style=\"fill:#ffff00;stroke:#ffff00;stroke-width:1.5;\" x=\"274.128749\" xlink:href=\"#m112383241d\" y=\"82.460715\"/>\r\n     <use style=\"fill:#ffff00;stroke:#ffff00;stroke-width:1.5;\" x=\"238.158516\" xlink:href=\"#m112383241d\" y=\"72.461546\"/>\r\n     <use style=\"fill:#ffff00;stroke:#ffff00;stroke-width:1.5;\" x=\"213.256662\" xlink:href=\"#m112383241d\" y=\"77.076547\"/>\r\n     <use style=\"fill:#ffff00;stroke:#ffff00;stroke-width:1.5;\" x=\"179.132653\" xlink:href=\"#m112383241d\" y=\"47.848206\"/>\r\n     <use style=\"fill:#ffff00;stroke:#ffff00;stroke-width:1.5;\" x=\"158.841798\" xlink:href=\"#m112383241d\" y=\"60.154876\"/>\r\n     <use style=\"fill:#ffff00;stroke:#ffff00;stroke-width:1.5;\" x=\"109.960322\" xlink:href=\"#m112383241d\" y=\"67.077378\"/>\r\n     <use style=\"fill:#ffff00;stroke:#ffff00;stroke-width:1.5;\" x=\"89.671228\" xlink:href=\"#m112383241d\" y=\"70.923212\"/>\r\n     <use style=\"fill:#ffff00;stroke:#ffff00;stroke-width:1.5;\" x=\"85.9807\" xlink:href=\"#m112383241d\" y=\"98.613219\"/>\r\n     <use style=\"fill:#ffff00;stroke:#ffff00;stroke-width:1.5;\" x=\"91.515691\" xlink:href=\"#m112383241d\" y=\"133.224992\"/>\r\n     <use style=\"fill:#ffff00;stroke:#ffff00;stroke-width:1.5;\" x=\"119.184239\" xlink:href=\"#m112383241d\" y=\"162.453017\"/>\r\n     <use style=\"fill:#ffff00;stroke:#ffff00;stroke-width:1.5;\" x=\"168.065714\" xlink:href=\"#m112383241d\" y=\"175.528854\"/>\r\n     <use style=\"fill:#ffff00;stroke:#ffff00;stroke-width:1.5;\" x=\"218.791653\" xlink:href=\"#m112383241d\" y=\"197.065526\"/>\r\n     <use style=\"fill:#ffff00;stroke:#ffff00;stroke-width:1.5;\" x=\"261.215906\" xlink:href=\"#m112383241d\" y=\"190.143024\"/>\r\n     <use style=\"fill:#ffff00;stroke:#ffff00;stroke-width:1.5;\" x=\"294.419445\" xlink:href=\"#m112383241d\" y=\"190.143024\"/>\r\n     <use style=\"fill:#ffff00;stroke:#ffff00;stroke-width:1.5;\" x=\"164.376788\" xlink:href=\"#m112383241d\" y=\"76.30738\"/>\r\n     <use style=\"fill:#ffff00;stroke:#ffff00;stroke-width:1.5;\" x=\"139.474935\" xlink:href=\"#m112383241d\" y=\"51.694041\"/>\r\n     <use style=\"fill:#ffff00;stroke:#ffff00;stroke-width:1.5;\" x=\"144.086092\" xlink:href=\"#m112383241d\" y=\"32.464869\"/>\r\n     <use style=\"fill:#ffff00;stroke:#ffff00;stroke-width:1.5;\" x=\"160.686261\" xlink:href=\"#m112383241d\" y=\"49.38654\"/>\r\n     <use style=\"fill:#ffff00;stroke:#ffff00;stroke-width:1.5;\" x=\"158.841798\" xlink:href=\"#m112383241d\" y=\"65.539044\"/>\r\n     <use style=\"fill:#ffff00;stroke:#ffff00;stroke-width:1.5;\" x=\"141.319398\" xlink:href=\"#m112383241d\" y=\"83.999049\"/>\r\n     <use style=\"fill:#ffff00;stroke:#ffff00;stroke-width:1.5;\" x=\"128.406555\" xlink:href=\"#m112383241d\" y=\"100.92072\"/>\r\n     <use style=\"fill:#ffff00;stroke:#ffff00;stroke-width:1.5;\" x=\"138.551102\" xlink:href=\"#m112383241d\" y=\"130.917491\"/>\r\n     <use style=\"fill:#ffff00;stroke:#ffff00;stroke-width:1.5;\" x=\"148.69725\" xlink:href=\"#m112383241d\" y=\"156.299682\"/>\r\n     <use style=\"fill:#ffff00;stroke:#ffff00;stroke-width:1.5;\" x=\"176.365798\" xlink:href=\"#m112383241d\" y=\"153.223015\"/>\r\n     <use style=\"fill:#ffff00;stroke:#ffff00;stroke-width:1.5;\" x=\"196.656174\" xlink:href=\"#m112383241d\" y=\"150.915514\"/>\r\n     <use style=\"fill:#ffff00;stroke:#ffff00;stroke-width:1.5;\" x=\"223.402811\" xlink:href=\"#m112383241d\" y=\"177.067187\"/>\r\n     <use style=\"fill:#ffff00;stroke:#ffff00;stroke-width:1.5;\" x=\"233.547358\" xlink:href=\"#m112383241d\" y=\"157.838016\"/>\r\n     <use style=\"fill:#ffff00;stroke:#ffff00;stroke-width:1.5;\" x=\"263.982601\" xlink:href=\"#m112383241d\" y=\"153.223015\"/>\r\n     <use style=\"fill:#ffff00;stroke:#ffff00;stroke-width:1.5;\" x=\"289.808287\" xlink:href=\"#m112383241d\" y=\"148.608013\"/>\r\n     <use style=\"fill:#ffff00;stroke:#ffff00;stroke-width:1.5;\" x=\"260.293675\" xlink:href=\"#m112383241d\" y=\"132.455825\"/>\r\n     <use style=\"fill:#ffff00;stroke:#ffff00;stroke-width:1.5;\" x=\"287.039991\" xlink:href=\"#m112383241d\" y=\"117.072172\"/>\r\n     <use style=\"fill:#ffff00;stroke:#ffff00;stroke-width:1.5;\" x=\"278.739907\" xlink:href=\"#m112383241d\" y=\"105.535721\"/>\r\n     <use style=\"fill:#ffff00;stroke:#ffff00;stroke-width:1.5;\" x=\"302.719529\" xlink:href=\"#m112383241d\" y=\"87.075717\"/>\r\n     <use style=\"fill:#ffff00;stroke:#ffff00;stroke-width:1.5;\" x=\"222.480579\" xlink:href=\"#m112383241d\" y=\"78.614881\"/>\r\n     <use style=\"fill:#ffff00;stroke:#ffff00;stroke-width:1.5;\" x=\"257.52698\" xlink:href=\"#m112383241d\" y=\"63.231544\"/>\r\n     <use style=\"fill:#ffff00;stroke:#ffff00;stroke-width:1.5;\" x=\"238.158516\" xlink:href=\"#m112383241d\" y=\"60.924043\"/>\r\n     <use style=\"fill:#ffff00;stroke:#ffff00;stroke-width:1.5;\" x=\"208.645504\" xlink:href=\"#m112383241d\" y=\"73.230713\"/>\r\n     <use style=\"fill:#ffff00;stroke:#ffff00;stroke-width:1.5;\" x=\"185.588691\" xlink:href=\"#m112383241d\" y=\"91.690718\"/>\r\n     <use style=\"fill:#ffff00;stroke:#ffff00;stroke-width:1.5;\" x=\"171.75432\" xlink:href=\"#m112383241d\" y=\"75.538214\"/>\r\n     <use style=\"fill:#ffff00;stroke:#ffff00;stroke-width:1.5;\" x=\"153.308408\" xlink:href=\"#m112383241d\" y=\"96.305719\"/>\r\n     <use style=\"fill:#ffff00;stroke:#ffff00;stroke-width:1.5;\" x=\"153.308408\" xlink:href=\"#m112383241d\" y=\"115.533838\"/>\r\n     <use style=\"fill:#ffff00;stroke:#ffff00;stroke-width:1.5;\" x=\"116.417544\" xlink:href=\"#m112383241d\" y=\"110.918837\"/>\r\n     <use style=\"fill:#ffff00;stroke:#ffff00;stroke-width:1.5;\" x=\"151.463945\" xlink:href=\"#m112383241d\" y=\"135.532492\"/>\r\n     <use style=\"fill:#ffff00;stroke:#ffff00;stroke-width:1.5;\" x=\"164.376788\" xlink:href=\"#m112383241d\" y=\"162.453017\"/>\r\n    </g>\r\n   </g>\r\n   <g id=\"PathCollection_2\">\r\n    <defs>\r\n     <path d=\"M -3 0 \r\nL 3 0 \r\nM 0 3 \r\nL 0 -3 \r\n\" id=\"m8bd7dfde5d\" style=\"stroke:#0000ff;stroke-width:1.5;\"/>\r\n    </defs>\r\n    <g clip-path=\"url(#pb717bd116b)\">\r\n     <use style=\"fill:#0000ff;stroke:#0000ff;stroke-width:1.5;\" x=\"216.024958\" xlink:href=\"#m8bd7dfde5d\" y=\"35.541537\"/>\r\n     <use style=\"fill:#0000ff;stroke:#0000ff;stroke-width:1.5;\" x=\"222.480579\" xlink:href=\"#m8bd7dfde5d\" y=\"51.694041\"/>\r\n     <use style=\"fill:#0000ff;stroke:#0000ff;stroke-width:1.5;\" x=\"234.469589\" xlink:href=\"#m8bd7dfde5d\" y=\"68.615712\"/>\r\n     <use style=\"fill:#0000ff;stroke:#0000ff;stroke-width:1.5;\" x=\"267.673128\" xlink:href=\"#m8bd7dfde5d\" y=\"54.001541\"/>\r\n     <use style=\"fill:#0000ff;stroke:#0000ff;stroke-width:1.5;\" x=\"285.195528\" xlink:href=\"#m8bd7dfde5d\" y=\"57.078209\"/>\r\n     <use style=\"fill:#0000ff;stroke:#0000ff;stroke-width:1.5;\" x=\"283.351065\" xlink:href=\"#m8bd7dfde5d\" y=\"70.923212\"/>\r\n     <use style=\"fill:#0000ff;stroke:#0000ff;stroke-width:1.5;\" x=\"309.17515\" xlink:href=\"#m8bd7dfde5d\" y=\"80.922382\"/>\r\n     <use style=\"fill:#0000ff;stroke:#0000ff;stroke-width:1.5;\" x=\"334.999235\" xlink:href=\"#m8bd7dfde5d\" y=\"95.536552\"/>\r\n     <use style=\"fill:#0000ff;stroke:#0000ff;stroke-width:1.5;\" x=\"318.399067\" xlink:href=\"#m8bd7dfde5d\" y=\"104.766554\"/>\r\n     <use style=\"fill:#0000ff;stroke:#0000ff;stroke-width:1.5;\" x=\"340.534225\" xlink:href=\"#m8bd7dfde5d\" y=\"124.764261\"/>\r\n     <use style=\"fill:#0000ff;stroke:#0000ff;stroke-width:1.5;\" x=\"336.843698\" xlink:href=\"#m8bd7dfde5d\" y=\"132.455825\"/>\r\n     <use style=\"fill:#0000ff;stroke:#0000ff;stroke-width:1.5;\" x=\"324.854688\" xlink:href=\"#m8bd7dfde5d\" y=\"142.454889\"/>\r\n     <use style=\"fill:#0000ff;stroke:#0000ff;stroke-width:1.5;\" x=\"330.388077\" xlink:href=\"#m8bd7dfde5d\" y=\"155.530515\"/>\r\n     <use style=\"fill:#0000ff;stroke:#0000ff;stroke-width:1.5;\" x=\"323.010224\" xlink:href=\"#m8bd7dfde5d\" y=\"172.452186\"/>\r\n     <use style=\"fill:#0000ff;stroke:#0000ff;stroke-width:1.5;\" x=\"319.321298\" xlink:href=\"#m8bd7dfde5d\" y=\"188.60469\"/>\r\n     <use style=\"fill:#0000ff;stroke:#0000ff;stroke-width:1.5;\" x=\"313.786308\" xlink:href=\"#m8bd7dfde5d\" y=\"192.450525\"/>\r\n     <use style=\"fill:#0000ff;stroke:#0000ff;stroke-width:1.5;\" x=\"281.506602\" xlink:href=\"#m8bd7dfde5d\" y=\"211.679696\"/>\r\n     <use style=\"fill:#0000ff;stroke:#0000ff;stroke-width:1.5;\" x=\"269.517591\" xlink:href=\"#m8bd7dfde5d\" y=\"196.296359\"/>\r\n     <use style=\"fill:#0000ff;stroke:#0000ff;stroke-width:1.5;\" x=\"261.215906\" xlink:href=\"#m8bd7dfde5d\" y=\"177.836354\"/>\r\n     <use style=\"fill:#0000ff;stroke:#0000ff;stroke-width:1.5;\" x=\"242.771275\" xlink:href=\"#m8bd7dfde5d\" y=\"194.758025\"/>\r\n     <use style=\"fill:#0000ff;stroke:#0000ff;stroke-width:1.5;\" x=\"232.625126\" xlink:href=\"#m8bd7dfde5d\" y=\"214.756364\"/>\r\n     <use style=\"fill:#0000ff;stroke:#0000ff;stroke-width:1.5;\" x=\"200.34526\" xlink:href=\"#m8bd7dfde5d\" y=\"213.21803\"/>\r\n     <use style=\"fill:#0000ff;stroke:#0000ff;stroke-width:1.5;\" x=\"210.489968\" xlink:href=\"#m8bd7dfde5d\" y=\"194.758025\"/>\r\n     <use style=\"fill:#0000ff;stroke:#0000ff;stroke-width:1.5;\" x=\"165.29902\" xlink:href=\"#m8bd7dfde5d\" y=\"180.913022\"/>\r\n     <use style=\"fill:#0000ff;stroke:#0000ff;stroke-width:1.5;\" x=\"121.028702\" xlink:href=\"#m8bd7dfde5d\" y=\"177.067187\"/>\r\n     <use style=\"fill:#0000ff;stroke:#0000ff;stroke-width:1.5;\" x=\"123.795397\" xlink:href=\"#m8bd7dfde5d\" y=\"160.914683\"/>\r\n     <use style=\"fill:#0000ff;stroke:#0000ff;stroke-width:1.5;\" x=\"67.536069\" xlink:href=\"#m8bd7dfde5d\" y=\"160.914683\"/>\r\n     <use style=\"fill:#0000ff;stroke:#0000ff;stroke-width:1.5;\" x=\"74.913921\" xlink:href=\"#m8bd7dfde5d\" y=\"129.379157\"/>\r\n     <use style=\"fill:#0000ff;stroke:#0000ff;stroke-width:1.5;\" x=\"65.691606\" xlink:href=\"#m8bd7dfde5d\" y=\"103.228221\"/>\r\n     <use style=\"fill:#0000ff;stroke:#0000ff;stroke-width:1.5;\" x=\"74.913921\" xlink:href=\"#m8bd7dfde5d\" y=\"61.69321\"/>\r\n     <use style=\"fill:#0000ff;stroke:#0000ff;stroke-width:1.5;\" x=\"121.950934\" xlink:href=\"#m8bd7dfde5d\" y=\"59.385709\"/>\r\n     <use style=\"fill:#0000ff;stroke:#0000ff;stroke-width:1.5;\" x=\"125.63986\" xlink:href=\"#m8bd7dfde5d\" y=\"37.07987\"/>\r\n     <use style=\"fill:#0000ff;stroke:#0000ff;stroke-width:1.5;\" x=\"105.349164\" xlink:href=\"#m8bd7dfde5d\" y=\"38.618204\"/>\r\n     <use style=\"fill:#0000ff;stroke:#0000ff;stroke-width:1.5;\" x=\"98.893543\" xlink:href=\"#m8bd7dfde5d\" y=\"59.385709\"/>\r\n     <use style=\"fill:#0000ff;stroke:#0000ff;stroke-width:1.5;\" x=\"203.112115\" xlink:href=\"#m8bd7dfde5d\" y=\"51.694041\"/>\r\n     <use style=\"fill:#0000ff;stroke:#0000ff;stroke-width:1.5;\" x=\"195.733942\" xlink:href=\"#m8bd7dfde5d\" y=\"37.07987\"/>\r\n     <use style=\"fill:#0000ff;stroke:#0000ff;stroke-width:1.5;\" x=\"169.910177\" xlink:href=\"#m8bd7dfde5d\" y=\"29.388202\"/>\r\n     <use style=\"fill:#0000ff;stroke:#0000ff;stroke-width:1.5;\" x=\"173.598944\" xlink:href=\"#m8bd7dfde5d\" y=\"17.083636\"/>\r\n     <use style=\"fill:#0000ff;stroke:#0000ff;stroke-width:1.5;\" x=\"232.625126\" xlink:href=\"#m8bd7dfde5d\" y=\"19.38798\"/>\r\n     <use style=\"fill:#0000ff;stroke:#0000ff;stroke-width:1.5;\" x=\"250.149127\" xlink:href=\"#m8bd7dfde5d\" y=\"47.07904\"/>\r\n     <use style=\"fill:#0000ff;stroke:#0000ff;stroke-width:1.5;\" x=\"288.884454\" xlink:href=\"#m8bd7dfde5d\" y=\"40.156538\"/>\r\n     <use style=\"fill:#0000ff;stroke:#0000ff;stroke-width:1.5;\" x=\"318.399067\" xlink:href=\"#m8bd7dfde5d\" y=\"64.000711\"/>\r\n     <use style=\"fill:#0000ff;stroke:#0000ff;stroke-width:1.5;\" x=\"294.419445\" xlink:href=\"#m8bd7dfde5d\" y=\"66.308211\"/>\r\n     <use style=\"fill:#0000ff;stroke:#0000ff;stroke-width:1.5;\" x=\"358.064631\" xlink:href=\"#m8bd7dfde5d\" y=\"123.225507\"/>\r\n     <use style=\"fill:#0000ff;stroke:#0000ff;stroke-width:1.5;\" x=\"179.132653\" xlink:href=\"#m8bd7dfde5d\" y=\"194.758025\"/>\r\n     <use style=\"fill:#0000ff;stroke:#0000ff;stroke-width:1.5;\" x=\"148.69725\" xlink:href=\"#m8bd7dfde5d\" y=\"200.91136\"/>\r\n     <use style=\"fill:#0000ff;stroke:#0000ff;stroke-width:1.5;\" x=\"162.530724\" xlink:href=\"#m8bd7dfde5d\" y=\"172.452186\"/>\r\n     <use style=\"fill:#0000ff;stroke:#0000ff;stroke-width:1.5;\" x=\"108.115859\" xlink:href=\"#m8bd7dfde5d\" y=\"165.529684\"/>\r\n     <use style=\"fill:#0000ff;stroke:#0000ff;stroke-width:1.5;\" x=\"111.804785\" xlink:href=\"#m8bd7dfde5d\" y=\"147.838847\"/>\r\n     <use style=\"fill:#0000ff;stroke:#0000ff;stroke-width:1.5;\" x=\"140.397166\" xlink:href=\"#m8bd7dfde5d\" y=\"140.147494\"/>\r\n     <use style=\"fill:#0000ff;stroke:#0000ff;stroke-width:1.5;\" x=\"88.747395\" xlink:href=\"#m8bd7dfde5d\" y=\"140.916555\"/>\r\n     <use style=\"fill:#0000ff;stroke:#0000ff;stroke-width:1.5;\" x=\"80.447311\" xlink:href=\"#m8bd7dfde5d\" y=\"156.299682\"/>\r\n     <use style=\"fill:#0000ff;stroke:#0000ff;stroke-width:1.5;\" x=\"90.593459\" xlink:href=\"#m8bd7dfde5d\" y=\"177.836354\"/>\r\n     <use style=\"fill:#0000ff;stroke:#0000ff;stroke-width:1.5;\" x=\"70.302764\" xlink:href=\"#m8bd7dfde5d\" y=\"142.454889\"/>\r\n     <use style=\"fill:#0000ff;stroke:#0000ff;stroke-width:1.5;\" x=\"53.700994\" xlink:href=\"#m8bd7dfde5d\" y=\"100.92072\"/>\r\n     <use style=\"fill:#0000ff;stroke:#0000ff;stroke-width:1.5;\" x=\"71.224995\" xlink:href=\"#m8bd7dfde5d\" y=\"77.076547\"/>\r\n     <use style=\"fill:#0000ff;stroke:#0000ff;stroke-width:1.5;\" x=\"109.038091\" xlink:href=\"#m8bd7dfde5d\" y=\"28.619035\"/>\r\n     <use style=\"fill:#0000ff;stroke:#0000ff;stroke-width:1.5;\" x=\"185.588691\" xlink:href=\"#m8bd7dfde5d\" y=\"28.619035\"/>\r\n     <use style=\"fill:#0000ff;stroke:#0000ff;stroke-width:1.5;\" x=\"287.896578\" xlink:href=\"#m8bd7dfde5d\" y=\"136.984439\"/>\r\n     <use style=\"fill:#0000ff;stroke:#0000ff;stroke-width:1.5;\" x=\"91.515691\" xlink:href=\"#m8bd7dfde5d\" y=\"81.691548\"/>\r\n    </g>\r\n   </g>\r\n   <g id=\"matplotlib.axis_1\">\r\n    <g id=\"xtick_1\">\r\n     <g id=\"line2d_1\">\r\n      <defs>\r\n       <path d=\"M 0 0 \r\nL 0 3.5 \r\n\" id=\"m011764fa46\" style=\"stroke:#000000;stroke-width:0.8;\"/>\r\n      </defs>\r\n      <g>\r\n       <use style=\"stroke:#000000;stroke-width:0.8;\" x=\"76.601739\" xlink:href=\"#m011764fa46\" y=\"224.64\"/>\r\n      </g>\r\n     </g>\r\n     <g id=\"text_1\">\r\n      <!-- −1.5 -->\r\n      <g transform=\"translate(64.460333 239.238437)scale(0.1 -0.1)\">\r\n       <defs>\r\n        <path d=\"M 10.59375 35.5 \r\nL 73.1875 35.5 \r\nL 73.1875 27.203125 \r\nL 10.59375 27.203125 \r\nz\r\n\" id=\"DejaVuSans-8722\"/>\r\n        <path d=\"M 12.40625 8.296875 \r\nL 28.515625 8.296875 \r\nL 28.515625 63.921875 \r\nL 10.984375 60.40625 \r\nL 10.984375 69.390625 \r\nL 28.421875 72.90625 \r\nL 38.28125 72.90625 \r\nL 38.28125 8.296875 \r\nL 54.390625 8.296875 \r\nL 54.390625 0 \r\nL 12.40625 0 \r\nz\r\n\" id=\"DejaVuSans-49\"/>\r\n        <path d=\"M 10.6875 12.40625 \r\nL 21 12.40625 \r\nL 21 0 \r\nL 10.6875 0 \r\nz\r\n\" id=\"DejaVuSans-46\"/>\r\n        <path d=\"M 10.796875 72.90625 \r\nL 49.515625 72.90625 \r\nL 49.515625 64.59375 \r\nL 19.828125 64.59375 \r\nL 19.828125 46.734375 \r\nQ 21.96875 47.46875 24.109375 47.828125 \r\nQ 26.265625 48.1875 28.421875 48.1875 \r\nQ 40.625 48.1875 47.75 41.5 \r\nQ 54.890625 34.8125 54.890625 23.390625 \r\nQ 54.890625 11.625 47.5625 5.09375 \r\nQ 40.234375 -1.421875 26.90625 -1.421875 \r\nQ 22.3125 -1.421875 17.546875 -0.640625 \r\nQ 12.796875 0.140625 7.71875 1.703125 \r\nL 7.71875 11.625 \r\nQ 12.109375 9.234375 16.796875 8.0625 \r\nQ 21.484375 6.890625 26.703125 6.890625 \r\nQ 35.15625 6.890625 40.078125 11.328125 \r\nQ 45.015625 15.765625 45.015625 23.390625 \r\nQ 45.015625 31 40.078125 35.4375 \r\nQ 35.15625 39.890625 26.703125 39.890625 \r\nQ 22.75 39.890625 18.8125 39.015625 \r\nQ 14.890625 38.140625 10.796875 36.28125 \r\nz\r\n\" id=\"DejaVuSans-53\"/>\r\n       </defs>\r\n       <use xlink:href=\"#DejaVuSans-8722\"/>\r\n       <use x=\"83.789062\" xlink:href=\"#DejaVuSans-49\"/>\r\n       <use x=\"147.412109\" xlink:href=\"#DejaVuSans-46\"/>\r\n       <use x=\"179.199219\" xlink:href=\"#DejaVuSans-53\"/>\r\n      </g>\r\n     </g>\r\n    </g>\r\n    <g id=\"xtick_2\">\r\n     <g id=\"line2d_2\">\r\n      <g>\r\n       <use style=\"stroke:#000000;stroke-width:0.8;\" x=\"116.19244\" xlink:href=\"#m011764fa46\" y=\"224.64\"/>\r\n      </g>\r\n     </g>\r\n     <g id=\"text_2\">\r\n      <!-- −1.0 -->\r\n      <g transform=\"translate(104.051034 239.238437)scale(0.1 -0.1)\">\r\n       <defs>\r\n        <path d=\"M 31.78125 66.40625 \r\nQ 24.171875 66.40625 20.328125 58.90625 \r\nQ 16.5 51.421875 16.5 36.375 \r\nQ 16.5 21.390625 20.328125 13.890625 \r\nQ 24.171875 6.390625 31.78125 6.390625 \r\nQ 39.453125 6.390625 43.28125 13.890625 \r\nQ 47.125 21.390625 47.125 36.375 \r\nQ 47.125 51.421875 43.28125 58.90625 \r\nQ 39.453125 66.40625 31.78125 66.40625 \r\nz\r\nM 31.78125 74.21875 \r\nQ 44.046875 74.21875 50.515625 64.515625 \r\nQ 56.984375 54.828125 56.984375 36.375 \r\nQ 56.984375 17.96875 50.515625 8.265625 \r\nQ 44.046875 -1.421875 31.78125 -1.421875 \r\nQ 19.53125 -1.421875 13.0625 8.265625 \r\nQ 6.59375 17.96875 6.59375 36.375 \r\nQ 6.59375 54.828125 13.0625 64.515625 \r\nQ 19.53125 74.21875 31.78125 74.21875 \r\nz\r\n\" id=\"DejaVuSans-48\"/>\r\n       </defs>\r\n       <use xlink:href=\"#DejaVuSans-8722\"/>\r\n       <use x=\"83.789062\" xlink:href=\"#DejaVuSans-49\"/>\r\n       <use x=\"147.412109\" xlink:href=\"#DejaVuSans-46\"/>\r\n       <use x=\"179.199219\" xlink:href=\"#DejaVuSans-48\"/>\r\n      </g>\r\n     </g>\r\n    </g>\r\n    <g id=\"xtick_3\">\r\n     <g id=\"line2d_3\">\r\n      <g>\r\n       <use style=\"stroke:#000000;stroke-width:0.8;\" x=\"155.78314\" xlink:href=\"#m011764fa46\" y=\"224.64\"/>\r\n      </g>\r\n     </g>\r\n     <g id=\"text_3\">\r\n      <!-- −0.5 -->\r\n      <g transform=\"translate(143.641734 239.238437)scale(0.1 -0.1)\">\r\n       <use xlink:href=\"#DejaVuSans-8722\"/>\r\n       <use x=\"83.789062\" xlink:href=\"#DejaVuSans-48\"/>\r\n       <use x=\"147.412109\" xlink:href=\"#DejaVuSans-46\"/>\r\n       <use x=\"179.199219\" xlink:href=\"#DejaVuSans-53\"/>\r\n      </g>\r\n     </g>\r\n    </g>\r\n    <g id=\"xtick_4\">\r\n     <g id=\"line2d_4\">\r\n      <g>\r\n       <use style=\"stroke:#000000;stroke-width:0.8;\" x=\"195.373841\" xlink:href=\"#m011764fa46\" y=\"224.64\"/>\r\n      </g>\r\n     </g>\r\n     <g id=\"text_4\">\r\n      <!-- 0.0 -->\r\n      <g transform=\"translate(187.422279 239.238437)scale(0.1 -0.1)\">\r\n       <use xlink:href=\"#DejaVuSans-48\"/>\r\n       <use x=\"63.623047\" xlink:href=\"#DejaVuSans-46\"/>\r\n       <use x=\"95.410156\" xlink:href=\"#DejaVuSans-48\"/>\r\n      </g>\r\n     </g>\r\n    </g>\r\n    <g id=\"xtick_5\">\r\n     <g id=\"line2d_5\">\r\n      <g>\r\n       <use style=\"stroke:#000000;stroke-width:0.8;\" x=\"234.964542\" xlink:href=\"#m011764fa46\" y=\"224.64\"/>\r\n      </g>\r\n     </g>\r\n     <g id=\"text_5\">\r\n      <!-- 0.5 -->\r\n      <g transform=\"translate(227.012979 239.238437)scale(0.1 -0.1)\">\r\n       <use xlink:href=\"#DejaVuSans-48\"/>\r\n       <use x=\"63.623047\" xlink:href=\"#DejaVuSans-46\"/>\r\n       <use x=\"95.410156\" xlink:href=\"#DejaVuSans-53\"/>\r\n      </g>\r\n     </g>\r\n    </g>\r\n    <g id=\"xtick_6\">\r\n     <g id=\"line2d_6\">\r\n      <g>\r\n       <use style=\"stroke:#000000;stroke-width:0.8;\" x=\"274.555242\" xlink:href=\"#m011764fa46\" y=\"224.64\"/>\r\n      </g>\r\n     </g>\r\n     <g id=\"text_6\">\r\n      <!-- 1.0 -->\r\n      <g transform=\"translate(266.60368 239.238437)scale(0.1 -0.1)\">\r\n       <use xlink:href=\"#DejaVuSans-49\"/>\r\n       <use x=\"63.623047\" xlink:href=\"#DejaVuSans-46\"/>\r\n       <use x=\"95.410156\" xlink:href=\"#DejaVuSans-48\"/>\r\n      </g>\r\n     </g>\r\n    </g>\r\n    <g id=\"xtick_7\">\r\n     <g id=\"line2d_7\">\r\n      <g>\r\n       <use style=\"stroke:#000000;stroke-width:0.8;\" x=\"314.145943\" xlink:href=\"#m011764fa46\" y=\"224.64\"/>\r\n      </g>\r\n     </g>\r\n     <g id=\"text_7\">\r\n      <!-- 1.5 -->\r\n      <g transform=\"translate(306.19438 239.238437)scale(0.1 -0.1)\">\r\n       <use xlink:href=\"#DejaVuSans-49\"/>\r\n       <use x=\"63.623047\" xlink:href=\"#DejaVuSans-46\"/>\r\n       <use x=\"95.410156\" xlink:href=\"#DejaVuSans-53\"/>\r\n      </g>\r\n     </g>\r\n    </g>\r\n    <g id=\"xtick_8\">\r\n     <g id=\"line2d_8\">\r\n      <g>\r\n       <use style=\"stroke:#000000;stroke-width:0.8;\" x=\"353.736643\" xlink:href=\"#m011764fa46\" y=\"224.64\"/>\r\n      </g>\r\n     </g>\r\n     <g id=\"text_8\">\r\n      <!-- 2.0 -->\r\n      <g transform=\"translate(345.785081 239.238437)scale(0.1 -0.1)\">\r\n       <defs>\r\n        <path d=\"M 19.1875 8.296875 \r\nL 53.609375 8.296875 \r\nL 53.609375 0 \r\nL 7.328125 0 \r\nL 7.328125 8.296875 \r\nQ 12.9375 14.109375 22.625 23.890625 \r\nQ 32.328125 33.6875 34.8125 36.53125 \r\nQ 39.546875 41.84375 41.421875 45.53125 \r\nQ 43.3125 49.21875 43.3125 52.78125 \r\nQ 43.3125 58.59375 39.234375 62.25 \r\nQ 35.15625 65.921875 28.609375 65.921875 \r\nQ 23.96875 65.921875 18.8125 64.3125 \r\nQ 13.671875 62.703125 7.8125 59.421875 \r\nL 7.8125 69.390625 \r\nQ 13.765625 71.78125 18.9375 73 \r\nQ 24.125 74.21875 28.421875 74.21875 \r\nQ 39.75 74.21875 46.484375 68.546875 \r\nQ 53.21875 62.890625 53.21875 53.421875 \r\nQ 53.21875 48.921875 51.53125 44.890625 \r\nQ 49.859375 40.875 45.40625 35.40625 \r\nQ 44.1875 33.984375 37.640625 27.21875 \r\nQ 31.109375 20.453125 19.1875 8.296875 \r\nz\r\n\" id=\"DejaVuSans-50\"/>\r\n       </defs>\r\n       <use xlink:href=\"#DejaVuSans-50\"/>\r\n       <use x=\"63.623047\" xlink:href=\"#DejaVuSans-46\"/>\r\n       <use x=\"95.410156\" xlink:href=\"#DejaVuSans-48\"/>\r\n      </g>\r\n     </g>\r\n    </g>\r\n   </g>\r\n   <g id=\"matplotlib.axis_2\">\r\n    <g id=\"ytick_1\">\r\n     <g id=\"line2d_9\">\r\n      <defs>\r\n       <path d=\"M 0 0 \r\nL -3.5 0 \r\n\" id=\"m0912d4652d\" style=\"stroke:#000000;stroke-width:0.8;\"/>\r\n      </defs>\r\n      <g>\r\n       <use style=\"stroke:#000000;stroke-width:0.8;\" x=\"38.482813\" xlink:href=\"#m0912d4652d\" y=\"223.408732\"/>\r\n      </g>\r\n     </g>\r\n     <g id=\"text_9\">\r\n      <!-- −2.0 -->\r\n      <g transform=\"translate(7.2 227.207951)scale(0.1 -0.1)\">\r\n       <use xlink:href=\"#DejaVuSans-8722\"/>\r\n       <use x=\"83.789062\" xlink:href=\"#DejaVuSans-50\"/>\r\n       <use x=\"147.412109\" xlink:href=\"#DejaVuSans-46\"/>\r\n       <use x=\"179.199219\" xlink:href=\"#DejaVuSans-48\"/>\r\n      </g>\r\n     </g>\r\n    </g>\r\n    <g id=\"ytick_2\">\r\n     <g id=\"line2d_10\">\r\n      <g>\r\n       <use style=\"stroke:#000000;stroke-width:0.8;\" x=\"38.482813\" xlink:href=\"#m0912d4652d\" y=\"196.18086\"/>\r\n      </g>\r\n     </g>\r\n     <g id=\"text_10\">\r\n      <!-- −1.5 -->\r\n      <g transform=\"translate(7.2 199.980079)scale(0.1 -0.1)\">\r\n       <use xlink:href=\"#DejaVuSans-8722\"/>\r\n       <use x=\"83.789062\" xlink:href=\"#DejaVuSans-49\"/>\r\n       <use x=\"147.412109\" xlink:href=\"#DejaVuSans-46\"/>\r\n       <use x=\"179.199219\" xlink:href=\"#DejaVuSans-53\"/>\r\n      </g>\r\n     </g>\r\n    </g>\r\n    <g id=\"ytick_3\">\r\n     <g id=\"line2d_11\">\r\n      <g>\r\n       <use style=\"stroke:#000000;stroke-width:0.8;\" x=\"38.482813\" xlink:href=\"#m0912d4652d\" y=\"168.952989\"/>\r\n      </g>\r\n     </g>\r\n     <g id=\"text_11\">\r\n      <!-- −1.0 -->\r\n      <g transform=\"translate(7.2 172.752208)scale(0.1 -0.1)\">\r\n       <use xlink:href=\"#DejaVuSans-8722\"/>\r\n       <use x=\"83.789062\" xlink:href=\"#DejaVuSans-49\"/>\r\n       <use x=\"147.412109\" xlink:href=\"#DejaVuSans-46\"/>\r\n       <use x=\"179.199219\" xlink:href=\"#DejaVuSans-48\"/>\r\n      </g>\r\n     </g>\r\n    </g>\r\n    <g id=\"ytick_4\">\r\n     <g id=\"line2d_12\">\r\n      <g>\r\n       <use style=\"stroke:#000000;stroke-width:0.8;\" x=\"38.482813\" xlink:href=\"#m0912d4652d\" y=\"141.725117\"/>\r\n      </g>\r\n     </g>\r\n     <g id=\"text_12\">\r\n      <!-- −0.5 -->\r\n      <g transform=\"translate(7.2 145.524336)scale(0.1 -0.1)\">\r\n       <use xlink:href=\"#DejaVuSans-8722\"/>\r\n       <use x=\"83.789062\" xlink:href=\"#DejaVuSans-48\"/>\r\n       <use x=\"147.412109\" xlink:href=\"#DejaVuSans-46\"/>\r\n       <use x=\"179.199219\" xlink:href=\"#DejaVuSans-53\"/>\r\n      </g>\r\n     </g>\r\n    </g>\r\n    <g id=\"ytick_5\">\r\n     <g id=\"line2d_13\">\r\n      <g>\r\n       <use style=\"stroke:#000000;stroke-width:0.8;\" x=\"38.482813\" xlink:href=\"#m0912d4652d\" y=\"114.497246\"/>\r\n      </g>\r\n     </g>\r\n     <g id=\"text_13\">\r\n      <!-- 0.0 -->\r\n      <g transform=\"translate(15.579688 118.296464)scale(0.1 -0.1)\">\r\n       <use xlink:href=\"#DejaVuSans-48\"/>\r\n       <use x=\"63.623047\" xlink:href=\"#DejaVuSans-46\"/>\r\n       <use x=\"95.410156\" xlink:href=\"#DejaVuSans-48\"/>\r\n      </g>\r\n     </g>\r\n    </g>\r\n    <g id=\"ytick_6\">\r\n     <g id=\"line2d_14\">\r\n      <g>\r\n       <use style=\"stroke:#000000;stroke-width:0.8;\" x=\"38.482813\" xlink:href=\"#m0912d4652d\" y=\"87.269374\"/>\r\n      </g>\r\n     </g>\r\n     <g id=\"text_14\">\r\n      <!-- 0.5 -->\r\n      <g transform=\"translate(15.579688 91.068593)scale(0.1 -0.1)\">\r\n       <use xlink:href=\"#DejaVuSans-48\"/>\r\n       <use x=\"63.623047\" xlink:href=\"#DejaVuSans-46\"/>\r\n       <use x=\"95.410156\" xlink:href=\"#DejaVuSans-53\"/>\r\n      </g>\r\n     </g>\r\n    </g>\r\n    <g id=\"ytick_7\">\r\n     <g id=\"line2d_15\">\r\n      <g>\r\n       <use style=\"stroke:#000000;stroke-width:0.8;\" x=\"38.482813\" xlink:href=\"#m0912d4652d\" y=\"60.041502\"/>\r\n      </g>\r\n     </g>\r\n     <g id=\"text_15\">\r\n      <!-- 1.0 -->\r\n      <g transform=\"translate(15.579688 63.840721)scale(0.1 -0.1)\">\r\n       <use xlink:href=\"#DejaVuSans-49\"/>\r\n       <use x=\"63.623047\" xlink:href=\"#DejaVuSans-46\"/>\r\n       <use x=\"95.410156\" xlink:href=\"#DejaVuSans-48\"/>\r\n      </g>\r\n     </g>\r\n    </g>\r\n    <g id=\"ytick_8\">\r\n     <g id=\"line2d_16\">\r\n      <g>\r\n       <use style=\"stroke:#000000;stroke-width:0.8;\" x=\"38.482813\" xlink:href=\"#m0912d4652d\" y=\"32.813631\"/>\r\n      </g>\r\n     </g>\r\n     <g id=\"text_16\">\r\n      <!-- 1.5 -->\r\n      <g transform=\"translate(15.579688 36.612849)scale(0.1 -0.1)\">\r\n       <use xlink:href=\"#DejaVuSans-49\"/>\r\n       <use x=\"63.623047\" xlink:href=\"#DejaVuSans-46\"/>\r\n       <use x=\"95.410156\" xlink:href=\"#DejaVuSans-53\"/>\r\n      </g>\r\n     </g>\r\n    </g>\r\n   </g>\r\n   <g id=\"patch_3\">\r\n    <path d=\"M 38.482813 224.64 \r\nL 38.482813 7.2 \r\n\" style=\"fill:none;stroke:#000000;stroke-linecap:square;stroke-linejoin:miter;stroke-width:0.8;\"/>\r\n   </g>\r\n   <g id=\"patch_4\">\r\n    <path d=\"M 373.282813 224.64 \r\nL 373.282813 7.2 \r\n\" style=\"fill:none;stroke:#000000;stroke-linecap:square;stroke-linejoin:miter;stroke-width:0.8;\"/>\r\n   </g>\r\n   <g id=\"patch_5\">\r\n    <path d=\"M 38.482812 224.64 \r\nL 373.282812 224.64 \r\n\" style=\"fill:none;stroke:#000000;stroke-linecap:square;stroke-linejoin:miter;stroke-width:0.8;\"/>\r\n   </g>\r\n   <g id=\"patch_6\">\r\n    <path d=\"M 38.482812 7.2 \r\nL 373.282812 7.2 \r\n\" style=\"fill:none;stroke:#000000;stroke-linecap:square;stroke-linejoin:miter;stroke-width:0.8;\"/>\r\n   </g>\r\n  </g>\r\n </g>\r\n <defs>\r\n  <clipPath id=\"pb717bd116b\">\r\n   <rect height=\"217.44\" width=\"334.8\" x=\"38.482813\" y=\"7.2\"/>\r\n  </clipPath>\r\n </defs>\r\n</svg>\r\n",
      "image/png": "[encoded data removed]"
     },
     "metadata": {
      "needs_background": "light"
     }
    }
   ],
   "source": [
    "decision_boundary(X, y, mean, std, new_theta)"
   ]
  },
  {
   "cell_type": "code",
   "execution_count": 23,
   "metadata": {
    "collapsed": true
   },
   "outputs": [
    {
     "output_type": "stream",
     "name": "stdout",
     "text": [
      "[[2.54774144e-06]\n [3.74060679e-09]]\n"
     ]
    }
   ],
   "source": [
    "T = np.array([[40, 40], [60, 65]])\n",
    "print(predict(T, mean, std, new_theta))"
   ]
  },
  {
   "cell_type": "code",
   "execution_count": null,
   "metadata": {},
   "outputs": [],
   "source": []
  }
 ],
 "metadata": {
  "anaconda-cloud": {},
  "kernelspec": {
   "display_name": "Python 3",
   "language": "python",
   "name": "python3"
  },
  "language_info": {
   "codemirror_mode": {
    "name": "ipython",
    "version": 3
   },
   "file_extension": ".py",
   "mimetype": "text/x-python",
   "name": "python",
   "nbconvert_exporter": "python",
   "pygments_lexer": "ipython3",
   "version": "3.8.5"
  }
 },
 "nbformat": 4,
 "nbformat_minor": 1
}