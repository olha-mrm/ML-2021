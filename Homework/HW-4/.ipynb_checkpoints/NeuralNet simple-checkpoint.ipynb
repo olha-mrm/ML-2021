{
 "cells": [
  {
   "cell_type": "markdown",
   "metadata": {},
   "source": [
    "В цій практичній роботі ми спробуємо реалізувати нейронну мережу з двох шарів (прихований і вихідний). Запропонований підхід стане заготовкою для реалізації наступних оптимізацій: MBGD, ADAM та регуляризації. \n",
    "\n",
    "Сьогодні ж вам пропонується додати до цього класу підтримку довільної кількості шарів та нейронів в них (наприклад, передавати їх параметром в конструктор, як це робиться в MLPClassifier за допомогою hidden_layer_sizes). Також потрібно передбачити можливість ранньої зупинки ітераційного процесу, якщо значення штрафної функції не покращуватиметься протягом певної кількості ітерацій. Наприклад, якщо протягом $k$ ітерацій штрафна функція за модулем не стане меншою, ніж на поточному кроці."
   ]
  },
  {
   "cell_type": "code",
   "execution_count": 1,
   "metadata": {},
   "outputs": [],
   "source": [
    "import numpy as np\n",
    "import pandas as pd\n",
    "from sklearn.model_selection import train_test_split\n",
    "from mpl_toolkits.mplot3d import Axes3D\n",
    "import matplotlib.pyplot as plt\n",
    "\n",
    "from matplotlib.colors import ListedColormap\n",
    "cm_bright = ListedColormap(['#FF0000', '#0000FF'])\n",
    "%matplotlib inline\n",
    "from sklearn.metrics import accuracy_score\n",
    "\n",
    "import sklearn.linear_model"
   ]
  },
  {
   "cell_type": "code",
   "execution_count": 2,
   "metadata": {},
   "outputs": [],
   "source": [
    "def plot_surface(cls, x_1, x_2, ax=None, threshold=0.5, contourf=False):\n",
    "    xx1, xx2 = np.meshgrid(np.linspace(x_1.min(), x_1.max(), 100), \n",
    "                           np.linspace(x_2.min(), x_2.max(), 100))\n",
    "\n",
    "    X_pred = np.c_[xx1.ravel(), xx2.ravel()]\n",
    "    pred = cls.predict_proba(X_pred)[:, 0]\n",
    "    Z = pred.reshape((100, 100))\n",
    "    if ax is None:\n",
    "        ax = plt.gca()\n",
    "    ax.contour(xx1, xx2, Z, levels=[threshold], colors='black')\n",
    "    ax.set_xlim((x_1.min(), x_1.max()))\n",
    "    ax.set_ylim((x_2.min(), x_2.max()))"
   ]
  },
  {
   "cell_type": "code",
   "execution_count": 3,
   "metadata": {},
   "outputs": [],
   "source": [
    "def plot_data(X, y):\n",
    "    ax = plt.gca()\n",
    "    ax.scatter(X[:,0], X[:,1], c=(y == 1), cmap=cm_bright)"
   ]
  },
  {
   "cell_type": "code",
   "execution_count": 4,
   "metadata": {},
   "outputs": [],
   "source": [
    "class NeuralNet:\n",
    "    \"\"\"\n",
    "    NN for binary classification\n",
    "    Attributes:\n",
    "    ...\n",
    "    \"\"\"\n",
    "    \n",
    "    def __init__(self, normalize = True, learning_rate = 0.01, num_iter = 30000, hidden_layer_sizes = (10,), eps = 1e-6):\n",
    "        self.learning_rate = learning_rate\n",
    "        self.num_iter = num_iter\n",
    "        self.normalize = normalize\n",
    "        self.hidden_layer_sizes = hidden_layer_sizes\n",
    "        self.layers_len = len(hidden_layer_sizes) + 1\n",
    "        self.eps = eps\n",
    "        self.parameters = None  # W and b\n",
    "    \n",
    "    def __normalize(self, X, mean = None, std = None):\n",
    "        \"\"\"\n",
    "        Зверніть увагу, що нормалізація вхідних даних є дуже важливою для швидкодії нейронних мереж.\n",
    "        \"\"\"\n",
    "        n = X.shape[0]\n",
    "        m = mean\n",
    "        if m is None:\n",
    "            m = np.mean(X, axis=1).reshape((n, 1))\n",
    "        s = std\n",
    "        if s is None:\n",
    "            s = np.std(X, axis=1).reshape((n, 1))\n",
    "        X_new = (X - m) / s**2\n",
    "        return X_new, m, s\n",
    "\n",
    "    def __sigmoid(self, Z):\n",
    "        \"\"\"\n",
    "        В наступних практичних потрібно буде додати підтримку й інших активаційних функцій - це один з гіперпараметрів. \n",
    "        Їх можна вибирати для всіх шарів одночасно або мати різні активаційні функції на кожному з них.\n",
    "        \"\"\"\n",
    "        return 1 / (1 + np.exp(-Z))\n",
    "    \n",
    "    def __initialize_parameters(self, n_x, n_y):\n",
    "        W_arr = []\n",
    "        b_arr = []\n",
    "        self.dW = []\n",
    "        self.db = []\n",
    "        \n",
    "        W1 = np.random.randn(n_y[0], n_x)*0.01;\n",
    "        b1 = np.zeros((n_y[0], 1));\n",
    "        W_arr.append(W1);\n",
    "        b_arr.append(b1);\n",
    "        \n",
    "        for i in range(1,len(n_y)):\n",
    "            W_temp =np.random.randn(n_y[i], n_y[i-1]) * 0.01;\n",
    "            b_temp = np.zeros((n_y[i], 1));\n",
    "            W_arr.append(W_temp);\n",
    "            b_arr.append(b_temp);\n",
    "        \n",
    "        W2 = np.random.randn(1, n_y[len(n_y)-1]) * 0.01\n",
    "        b2 = 0\n",
    "        \n",
    "        W_arr.append(W2);\n",
    "        b_arr.append(b2);\n",
    "        \n",
    "        self.parameters = {\"W\" : W_arr, \"b\" : b_arr}\n",
    "        \n",
    "       \n",
    "    def __forward_propagation(self, X):\n",
    "        W = self.parameters[\"W\"]\n",
    "        b = self.parameters[\"b\"]\n",
    "        \n",
    "        Z = list()\n",
    "        A = list()\n",
    "        \n",
    "        Z.append(np.dot(W[0], X) + b[0])\n",
    "        A.append(self.__sigmoid(Z[0]))\n",
    "\n",
    "        for i in range(1, self.layers_len):\n",
    "            Z.append(np.dot(W[i], A[i-1]) + b[i])\n",
    "            A.append(self.__sigmoid(Z[i]))\n",
    "            \n",
    "        cache = (W, b, Z, A)\n",
    "        return A[-1], cache\n",
    "    \n",
    "    \n",
    "    def compute_cost(self, A, Y):\n",
    "        m = Y.shape[1]\n",
    "        res = Y * np.log(A) + (1 - Y) * np.log(1 - A)\n",
    "        J = -(1 / m) * np.sum(res)\n",
    "        return J\n",
    "        \n",
    "    def __backward_propagation(self, X, Y, cache):\n",
    "        m = X.shape[1]\n",
    "        n = X.shape[0]\n",
    "        (W, b, Z, A) = cache\n",
    "        \n",
    "        dW = [None for i in range(self.layers_len)]\n",
    "        db = [None for i in range(self.layers_len)]\n",
    "        dZ = [None for i in range(self.layers_len)]\n",
    "        dA = [None for i in range(self.layers_len)]\n",
    "        \n",
    "        dZ[-1] = (A[-1] - Y)\n",
    "        dW[-1] = (1. / m * np.dot(dZ[-1], A[-2].T))\n",
    "        db[-1] = (1. / m * np.sum(dZ[-1], axis = 1, keepdims = True))\n",
    "        dA[-1] = np.dot(W[-1].T, dZ[-1])\n",
    "        \n",
    "        for i in range(self.layers_len-1, 1, -1):\n",
    "            dZ[i-1] = np.multiply(dA[i], np.multiply(A[i-1], 1 - A[i-1]))\n",
    "            dW[i-1] = 1. / m * np.dot(dZ[i-1], A[i-2].T)\n",
    "            db[i-1] = 1. / m * np.sum(dZ[i-1], axis = 1, keepdims = True)\n",
    "            dA[i-1] = np.dot(W[i-1].T, dZ[i-1])\n",
    "            \n",
    "        dZ[0] = np.multiply(dA[1], np.multiply(A[0], 1 - A[0]))\n",
    "        dA[0] = np.dot(W[0].T, dZ[0])\n",
    "        \n",
    "        dW[0] = 1. / m * np.dot(dZ[0], X.T)\n",
    "        db[0] = 1. / m * np.sum(dZ[0], axis = 1, keepdims = True)\n",
    "    \n",
    "        grads = {\"dZ\": dZ, \"dW\": dW, \"db\": db}\n",
    "        return grads\n",
    "    \n",
    "    \n",
    "    def __update_parameters(self, grads):\n",
    "        W = self.parameters[\"W\"]\n",
    "        b = self.parameters[\"b\"]\n",
    "        \n",
    "        dW = grads[\"dW\"]\n",
    "        db = grads[\"db\"]\n",
    "        \n",
    "        for i in range(self.layers_len):\n",
    "            W[i] = W[i] - self.learning_rate * dW[i]\n",
    "            b[i] = b[i] - self.learning_rate * db[i]\n",
    "        \n",
    "        self.parameters = {\"W\": W, \"b\": b}\n",
    "\n",
    "        \n",
    "    def fit(self, X_vert, Y_vert, print_cost = True):\n",
    "        X, Y = X_vert.T, Y_vert.T\n",
    "        \n",
    "        if self.normalize:\n",
    "            X, self.__mean, self.__std = self.__normalize(X)\n",
    "        \n",
    "        costs = []\n",
    "        costs_history = []\n",
    "        m = X.shape[1]\n",
    "        n_x = X.shape[0]\n",
    "        self.__initialize_parameters(n_x, self.hidden_layer_sizes)\n",
    "\n",
    "        for i in range(self.num_iter):\n",
    "            A, cache = self.__forward_propagation(X)\n",
    "            cost = self.compute_cost(A, Y)\n",
    "            grads = self.__backward_propagation(X, Y, cache)\n",
    "            self.__update_parameters(grads)\n",
    "            if print_cost and i % 1000 == 0:\n",
    "                print(\"{}-th iteration: {}\".format(i, cost))\n",
    "            if i % 1000 == 0:\n",
    "                costs.append(cost)\n",
    "\n",
    "        if print_cost:\n",
    "            plt.plot(costs)\n",
    "            plt.ylabel(\"Cost\")\n",
    "            plt.xlabel(\"Iteration, *1000\")\n",
    "            plt.show()\n",
    "    \n",
    "    def predict_proba(self, X_vert):\n",
    "        X = X_vert.T\n",
    "        if self.normalize:\n",
    "            X, _, _ = self.__normalize(X, self.__mean, self.__std)\n",
    "        \n",
    "        probs = self.__forward_propagation(X)[0]\n",
    "        \n",
    "        return np.column_stack((probs.T, 1 - probs.T))\n",
    "    \n",
    "    def predict(self, X_vert):\n",
    "        positive_probs = self.predict_proba(X_vert)[:, 0]\n",
    "        return (positive_probs >= 0.5).astype(int)"
   ]
  },
  {
   "cell_type": "markdown",
   "metadata": {},
   "source": [
    "Спочатку спробуйте цей клас на одній задачі, а потім на іншій."
   ]
  },
  {
   "cell_type": "code",
   "execution_count": 5,
   "metadata": {},
   "outputs": [],
   "source": [
    "#data_columns = [\"exam1\", \"exam2\"]\n",
    "#target_column = \"submitted\"\n",
    "#df = pd.read_csv(\"sats.csv\")\n",
    "#X, Y = df[data_columns].values, df[target_column].reshape((df.shape[0], 1))\n",
    "#print('Training set: X={}, y={}'.format(X.shape, Y.shape))"
   ]
  },
  {
   "cell_type": "code",
   "execution_count": 6,
   "metadata": {},
   "outputs": [
    {
     "name": "stdout",
     "output_type": "stream",
     "text": [
      "Training set: X=(118, 2), y=(118,)\n"
     ]
    }
   ],
   "source": [
    "data_columns = [\"test1\", \"test2\"]\n",
    "target_column = \"passed\"\n",
    "df = pd.read_csv(\"tests.csv\")\n",
    "X, Y = df[data_columns].values, df[target_column]\n",
    "print('Training set: X={}, y={}'.format(X.shape, Y.shape))"
   ]
  },
  {
   "cell_type": "code",
   "execution_count": 7,
   "metadata": {},
   "outputs": [
    {
     "data": {
      "image/png": "[encoded data removed]",
      "text/plain": [
       "<Figure size 432x288 with 1 Axes>"
      ]
     },
     "metadata": {
      "needs_background": "light"
     },
     "output_type": "display_data"
    }
   ],
   "source": [
    "plot_data(X, Y)"
   ]
  },
  {
   "cell_type": "code",
   "execution_count": 8,
   "metadata": {},
   "outputs": [],
   "source": [
    "cls = NeuralNet(normalize = True, learning_rate = 0.5, num_iter = 4000, hidden_layer_sizes=(20,), eps=1e-6)"
   ]
  },
  {
   "cell_type": "code",
   "execution_count": 9,
   "metadata": {
    "scrolled": true
   },
   "outputs": [
    {
     "name": "stdout",
     "output_type": "stream",
     "text": [
      "0-th iteration: 0.6934596428628518\n",
      "1000-th iteration: 0.6893735568975126\n",
      "2000-th iteration: 0.5826744788371627\n",
      "3000-th iteration: 0.39058827681438496\n"
     ]
    },
    {
     "data": {
      "image/png": "[encoded data removed]",
      "text/plain": [
       "<Figure size 432x288 with 1 Axes>"
      ]
     },
     "metadata": {
      "needs_background": "light"
     },
     "output_type": "display_data"
    }
   ],
   "source": [
    "cls.fit(X, Y.values.reshape((df.shape[0], 1)))"
   ]
  },
  {
   "cell_type": "code",
   "execution_count": 10,
   "metadata": {},
   "outputs": [
    {
     "name": "stdout",
     "output_type": "stream",
     "text": [
      "{'W': [array([[ 0.919744  , -0.40052156],\n",
      "       [ 0.13252403,  0.00718786],\n",
      "       [ 0.19433282,  0.04510371],\n",
      "       [ 1.83301169,  1.48088554],\n",
      "       [ 0.08958555, -1.60960115],\n",
      "       [ 0.30059879, -0.01571768],\n",
      "       [ 0.06164205, -0.01917731],\n",
      "       [ 0.28185882,  0.07191367],\n",
      "       [ 1.02537857, -0.80273897],\n",
      "       [ 0.2518954 ,  1.35859431],\n",
      "       [ 0.39888173, -2.91250996],\n",
      "       [ 0.40800046,  0.16191445],\n",
      "       [-1.91314322, -0.50638333],\n",
      "       [ 0.23432477,  0.06769149],\n",
      "       [ 0.59319053,  0.11482741],\n",
      "       [ 1.61334024, -0.26721677],\n",
      "       [ 0.06584509, -0.03587591],\n",
      "       [ 0.19441502, -1.97148191],\n",
      "       [ 0.2798974 ,  0.45434727],\n",
      "       [ 0.13078995,  0.1174794 ]]), array([[ 6.78893285e-01, -6.97230174e-01, -6.29985819e-01,\n",
      "        -9.26095167e+00, -6.36391718e+00, -6.53898323e-01,\n",
      "        -8.04756614e-01, -3.28228561e-01,  1.97052425e+00,\n",
      "         1.63755145e+00, -3.60074786e+00, -9.36049186e-02,\n",
      "        -3.38425368e+00, -5.59771635e-01,  1.27590496e-01,\n",
      "         4.92885365e+00, -8.01010762e-01,  4.55076938e+00,\n",
      "        -6.58044218e-04, -5.70999910e-01]])], 'b': [array([[ 0.68127452],\n",
      "       [ 0.0472009 ],\n",
      "       [-0.01299594],\n",
      "       [-3.54273531],\n",
      "       [-3.98295423],\n",
      "       [-0.17890631],\n",
      "       [ 0.09975123],\n",
      "       [ 0.11827876],\n",
      "       [ 1.51353276],\n",
      "       [ 1.2518272 ],\n",
      "       [-0.86069108],\n",
      "       [ 0.32790329],\n",
      "       [-2.18725073],\n",
      "       [-0.03259845],\n",
      "       [ 0.46767881],\n",
      "       [ 3.96221449],\n",
      "       [ 0.08288927],\n",
      "       [ 3.68765202],\n",
      "       [ 0.42794042],\n",
      "       [ 0.11685095]]), array([[-1.5125028]])]}\n"
     ]
    }
   ],
   "source": [
    "print(cls.parameters)"
   ]
  },
  {
   "cell_type": "code",
   "execution_count": 11,
   "metadata": {},
   "outputs": [
    {
     "data": {
      "text/plain": [
       "array([[0.57019526, 0.42980474],\n",
       "       [0.80223211, 0.19776789],\n",
       "       [0.3833654 , 0.6166346 ],\n",
       "       [0.20000247, 0.79999753],\n",
       "       [0.11644336, 0.88355664],\n",
       "       [0.85336217, 0.14663783],\n",
       "       [0.04263176, 0.95736824],\n",
       "       [0.24609256, 0.75390744],\n",
       "       [0.76309348, 0.23690652],\n",
       "       [0.93251161, 0.06748839],\n",
       "       [0.97101355, 0.02898645],\n",
       "       [0.32007081, 0.67992919],\n",
       "       [0.23597698, 0.76402302],\n",
       "       [0.11102123, 0.88897877],\n",
       "       [0.77774452, 0.22225548],\n",
       "       [0.20821249, 0.79178751],\n",
       "       [0.60588403, 0.39411597],\n",
       "       [0.83465653, 0.16534347],\n",
       "       [0.73432817, 0.26567183],\n",
       "       [0.19353315, 0.80646685],\n",
       "       [0.9952008 , 0.0047992 ],\n",
       "       [0.8459371 , 0.1540629 ],\n",
       "       [0.82712386, 0.17287614],\n",
       "       [0.06464299, 0.93535701],\n",
       "       [0.27011351, 0.72988649],\n",
       "       [0.86440833, 0.13559167],\n",
       "       [0.18258142, 0.81741858],\n",
       "       [0.34435116, 0.65564884],\n",
       "       [0.42341097, 0.57658903],\n",
       "       [0.83547407, 0.16452593],\n",
       "       [0.98381757, 0.01618243],\n",
       "       [0.52201421, 0.47798579],\n",
       "       [0.35619277, 0.64380723],\n",
       "       [0.93192707, 0.06807293],\n",
       "       [0.02328781, 0.97671219],\n",
       "       [0.65346866, 0.34653134],\n",
       "       [0.34251164, 0.65748836],\n",
       "       [0.06896036, 0.93103964],\n",
       "       [0.99893331, 0.00106669],\n",
       "       [0.09434791, 0.90565209],\n",
       "       [0.02835479, 0.97164521],\n",
       "       [0.56117241, 0.43882759],\n",
       "       [0.04612165, 0.95387835],\n",
       "       [0.21092861, 0.78907139],\n",
       "       [0.31770932, 0.68229068],\n",
       "       [0.94295421, 0.05704579],\n",
       "       [0.06874127, 0.93125873],\n",
       "       [0.15155369, 0.84844631],\n",
       "       [0.18536628, 0.81463372],\n",
       "       [0.29227008, 0.70772992],\n",
       "       [0.75004981, 0.24995019],\n",
       "       [0.19810815, 0.80189185],\n",
       "       [0.97563936, 0.02436064],\n",
       "       [0.00549341, 0.99450659],\n",
       "       [0.34992935, 0.65007065],\n",
       "       [0.10974139, 0.89025861],\n",
       "       [0.02345398, 0.97654602],\n",
       "       [0.57040174, 0.42959826],\n",
       "       [0.49140565, 0.50859435],\n",
       "       [0.80413888, 0.19586112],\n",
       "       [0.57599337, 0.42400663],\n",
       "       [0.98841228, 0.01158772],\n",
       "       [0.03053893, 0.96946107],\n",
       "       [0.38430726, 0.61569274],\n",
       "       [0.93194064, 0.06805936],\n",
       "       [0.92484212, 0.07515788],\n",
       "       [0.01650896, 0.98349104],\n",
       "       [0.249151  , 0.750849  ],\n",
       "       [0.4252479 , 0.5747521 ],\n",
       "       [0.24080376, 0.75919624],\n",
       "       [0.97869269, 0.02130731],\n",
       "       [0.45450494, 0.54549506],\n",
       "       [0.95493267, 0.04506733],\n",
       "       [0.81123455, 0.18876545],\n",
       "       [0.57857994, 0.42142006],\n",
       "       [0.99637623, 0.00362377],\n",
       "       [0.53554574, 0.46445426],\n",
       "       [0.79785118, 0.20214882],\n",
       "       [0.43300474, 0.56699526],\n",
       "       [0.71359933, 0.28640067],\n",
       "       [0.07740188, 0.92259812],\n",
       "       [0.99439472, 0.00560528],\n",
       "       [0.99402027, 0.00597973],\n",
       "       [0.40692117, 0.59307883],\n",
       "       [0.52786544, 0.47213456],\n",
       "       [0.49320842, 0.50679158],\n",
       "       [0.20927856, 0.79072144],\n",
       "       [0.09724419, 0.90275581],\n",
       "       [0.55498272, 0.44501728],\n",
       "       [0.02553687, 0.97446313],\n",
       "       [0.20497037, 0.79502963],\n",
       "       [0.94820034, 0.05179966],\n",
       "       [0.96533362, 0.03466638],\n",
       "       [0.03372907, 0.96627093],\n",
       "       [0.27384694, 0.72615306],\n",
       "       [0.11608092, 0.88391908],\n",
       "       [0.96042903, 0.03957097],\n",
       "       [0.12822143, 0.87177857],\n",
       "       [0.22729666, 0.77270334],\n",
       "       [0.61530365, 0.38469635],\n",
       "       [0.97283669, 0.02716331],\n",
       "       [0.97362373, 0.02637627],\n",
       "       [0.73164354, 0.26835646],\n",
       "       [0.04498697, 0.95501303],\n",
       "       [0.03639208, 0.96360792],\n",
       "       [0.95382312, 0.04617688],\n",
       "       [0.07303127, 0.92696873],\n",
       "       [0.55006184, 0.44993816],\n",
       "       [0.64725319, 0.35274681],\n",
       "       [0.98113442, 0.01886558],\n",
       "       [0.21465542, 0.78534458],\n",
       "       [0.75438758, 0.24561242],\n",
       "       [0.07710936, 0.92289064],\n",
       "       [0.98622109, 0.01377891],\n",
       "       [0.38190999, 0.61809001],\n",
       "       [0.79129348, 0.20870652],\n",
       "       [0.24925012, 0.75074988],\n",
       "       [0.18870969, 0.81129031]])"
      ]
     },
     "execution_count": 11,
     "metadata": {},
     "output_type": "execute_result"
    }
   ],
   "source": [
    "Y_prob = cls.predict_proba(X)\n",
    "Y_prob"
   ]
  },
  {
   "cell_type": "code",
   "execution_count": 12,
   "metadata": {},
   "outputs": [
    {
     "data": {
      "text/plain": [
       "array([1, 1, 0, 0, 0, 1, 0, 0, 1, 1, 1, 0, 0, 0, 1, 0, 1, 1, 1, 0, 1, 1,\n",
       "       1, 0, 0, 1, 0, 0, 0, 1, 1, 1, 0, 1, 0, 1, 0, 0, 1, 0, 0, 1, 0, 0,\n",
       "       0, 1, 0, 0, 0, 0, 1, 0, 1, 0, 0, 0, 0, 1, 0, 1, 1, 1, 0, 0, 1, 1,\n",
       "       0, 0, 0, 0, 1, 0, 1, 1, 1, 1, 1, 1, 0, 1, 0, 1, 1, 0, 1, 0, 0, 0,\n",
       "       1, 0, 0, 1, 1, 0, 0, 0, 1, 0, 0, 1, 1, 1, 1, 0, 0, 1, 0, 1, 1, 1,\n",
       "       0, 1, 0, 1, 0, 1, 0, 0])"
      ]
     },
     "execution_count": 12,
     "metadata": {},
     "output_type": "execute_result"
    }
   ],
   "source": [
    "Y_hat = cls.predict(X)\n",
    "Y_hat"
   ]
  },
  {
   "cell_type": "code",
   "execution_count": 13,
   "metadata": {},
   "outputs": [
    {
     "data": {
      "text/plain": [
       "0.864406779661017"
      ]
     },
     "execution_count": 13,
     "metadata": {},
     "output_type": "execute_result"
    }
   ],
   "source": [
    "accuracy_score(Y, Y_hat)"
   ]
  },
  {
   "cell_type": "code",
   "execution_count": 14,
   "metadata": {
    "scrolled": true
   },
   "outputs": [
    {
     "data": {
      "image/png": "[encoded data removed]",
      "text/plain": [
       "<Figure size 432x288 with 1 Axes>"
      ]
     },
     "metadata": {
      "needs_background": "light"
     },
     "output_type": "display_data"
    }
   ],
   "source": [
    "plot_data(X, Y)\n",
    "plot_surface(cls, X[:, 0], X[:, 1])"
   ]
  },
  {
   "cell_type": "markdown",
   "metadata": {},
   "source": [
    "Зверніть увагу на границю прийняття рішення. Модель старається побудувати складну криву, що може свідчити про її перетренування. Порівняйте отримані результати з класом з sklearn. Спробуйте додати нові шари для нашого класу та порівняти результати тоді. Поекспериментуйте з гіперпараметрами для обох класів."
   ]
  },
  {
   "cell_type": "code",
   "execution_count": 15,
   "metadata": {},
   "outputs": [],
   "source": [
    "from sklearn.neural_network import MLPClassifier\n",
    "clf = MLPClassifier(hidden_layer_sizes = (5,10,), max_iter = 10000, activation = 'relu', solver = 'sgd', learning_rate_init = 0.01, learning_rate = 'constant')"
   ]
  },
  {
   "cell_type": "code",
   "execution_count": 16,
   "metadata": {},
   "outputs": [
    {
     "data": {
      "text/plain": [
       "MLPClassifier(hidden_layer_sizes=(5, 10), learning_rate_init=0.01,\n",
       "              max_iter=10000, solver='sgd')"
      ]
     },
     "execution_count": 16,
     "metadata": {},
     "output_type": "execute_result"
    }
   ],
   "source": [
    "clf.fit(X, Y)"
   ]
  },
  {
   "cell_type": "code",
   "execution_count": 17,
   "metadata": {
    "scrolled": true
   },
   "outputs": [
    {
     "data": {
      "image/png": "[encoded data removed]",
      "text/plain": [
       "<Figure size 432x288 with 1 Axes>"
      ]
     },
     "metadata": {
      "needs_background": "light"
     },
     "output_type": "display_data"
    }
   ],
   "source": [
    "plot_data(X, Y)\n",
    "plot_surface(clf, X[:, 0], X[:, 1])"
   ]
  },
  {
   "cell_type": "code",
   "execution_count": 18,
   "metadata": {},
   "outputs": [
    {
     "data": {
      "text/plain": [
       "0.8559322033898306"
      ]
     },
     "execution_count": 18,
     "metadata": {},
     "output_type": "execute_result"
    }
   ],
   "source": [
    "accuracy_score(Y, clf.predict(X))"
   ]
  },
  {
   "cell_type": "code",
   "execution_count": 19,
   "metadata": {},
   "outputs": [
    {
     "data": {
      "text/plain": [
       "1308"
      ]
     },
     "execution_count": 19,
     "metadata": {},
     "output_type": "execute_result"
    }
   ],
   "source": [
    "clf.n_iter_"
   ]
  },
  {
   "cell_type": "markdown",
   "metadata": {},
   "source": [
    "Dataset 2"
   ]
  },
  {
   "cell_type": "code",
   "execution_count": 20,
   "metadata": {},
   "outputs": [
    {
     "name": "stdout",
     "output_type": "stream",
     "text": [
      "Training set: X=(100, 2), y=(100,)\n"
     ]
    }
   ],
   "source": [
    "data_columns = [\"exam1\", \"exam2\"]\n",
    "target_column = \"submitted\"\n",
    "df = pd.read_csv(\"sats.csv\")\n",
    "X, Y = df[data_columns].values, df[target_column]\n",
    "print('Training set: X={}, y={}'.format(X.shape, Y.shape))"
   ]
  },
  {
   "cell_type": "code",
   "execution_count": 21,
   "metadata": {},
   "outputs": [
    {
     "data": {
      "image/png": "[encoded data removed]",
      "text/plain": [
       "<Figure size 432x288 with 1 Axes>"
      ]
     },
     "metadata": {
      "needs_background": "light"
     },
     "output_type": "display_data"
    }
   ],
   "source": [
    "plot_data(X, Y)\n"
   ]
  },
  {
   "cell_type": "code",
   "execution_count": 22,
   "metadata": {},
   "outputs": [],
   "source": [
    "\n",
    "cls = NeuralNet(normalize = True, learning_rate = 0.5, num_iter = 4000, hidden_layer_sizes=(100,), eps=1e-6)"
   ]
  },
  {
   "cell_type": "code",
   "execution_count": 23,
   "metadata": {},
   "outputs": [
    {
     "name": "stdout",
     "output_type": "stream",
     "text": [
      "0-th iteration: 0.6975819674990892\n",
      "1000-th iteration: 0.6710157070593047\n",
      "2000-th iteration: 0.551621565040289\n",
      "3000-th iteration: 0.2539834150538274\n"
     ]
    },
    {
     "data": {
      "image/png": "[encoded data removed]",
      "text/plain": [
       "<Figure size 432x288 with 1 Axes>"
      ]
     },
     "metadata": {
      "needs_background": "light"
     },
     "output_type": "display_data"
    }
   ],
   "source": [
    "cls.fit(X, Y.values.reshape((df.shape[0], 1)))\n"
   ]
  },
  {
   "cell_type": "code",
   "execution_count": 24,
   "metadata": {},
   "outputs": [
    {
     "name": "stdout",
     "output_type": "stream",
     "text": [
      "{'W': [array([[ 2.5009367 ,  2.19999556],\n",
      "       [-0.56712006, -0.50428622],\n",
      "       [ 1.03655129,  0.93106723],\n",
      "       [ 0.12177764,  0.11557966],\n",
      "       [-0.56587128, -0.49887412],\n",
      "       [ 0.67662893,  0.59316214],\n",
      "       [-1.48641264, -1.29417489],\n",
      "       [ 0.50873393,  0.44364844],\n",
      "       [-2.07013089, -1.81640962],\n",
      "       [ 0.57345264,  0.52171772],\n",
      "       [-0.5736835 , -0.50687514],\n",
      "       [ 0.82249429,  0.7255456 ],\n",
      "       [-1.34830738, -1.18132521],\n",
      "       [-0.60056236, -0.54289131],\n",
      "       [ 1.08294937,  0.91448621],\n",
      "       [ 1.15282165,  1.03290699],\n",
      "       [ 0.91942065,  0.82275843],\n",
      "       [ 0.06040559,  0.03799225],\n",
      "       [ 0.94152386,  0.83627302],\n",
      "       [-1.74133441, -1.51949171],\n",
      "       [-2.06942169, -1.81477712],\n",
      "       [ 1.78651343,  1.55834877],\n",
      "       [ 1.69630247,  1.49250852],\n",
      "       [ 0.10264838,  0.09574943],\n",
      "       [-1.29834745, -1.14679302],\n",
      "       [ 1.33466921,  1.18775174],\n",
      "       [ 1.22503912,  1.06816883],\n",
      "       [ 0.20719502,  0.1835754 ],\n",
      "       [ 0.56092407,  0.49646727],\n",
      "       [-3.17324383, -2.79358529],\n",
      "       [-1.25333806, -1.10901975],\n",
      "       [-0.32757832, -0.31127775],\n",
      "       [-0.26226551, -0.21697166],\n",
      "       [ 0.29167723,  0.25468125],\n",
      "       [-1.72759427, -1.504175  ],\n",
      "       [-1.43408549, -1.25348312],\n",
      "       [-1.48103397, -1.33129264],\n",
      "       [-0.35697424, -0.27718862],\n",
      "       [-1.50945986, -1.3512556 ],\n",
      "       [-0.96081203, -0.8272508 ],\n",
      "       [ 1.90946202,  1.69754797],\n",
      "       [-1.14742018, -1.01986298],\n",
      "       [-0.49952737, -0.42887186],\n",
      "       [-0.18196464, -0.17493056],\n",
      "       [-0.83392114, -0.72283106],\n",
      "       [ 0.89413702,  0.80108738],\n",
      "       [ 2.05969944,  1.81703962],\n",
      "       [-0.34945591, -0.306054  ],\n",
      "       [-0.4386656 , -0.37730886],\n",
      "       [-1.7022659 , -1.52504298],\n",
      "       [-3.2075179 , -2.81808119],\n",
      "       [-0.74319127, -0.65333465],\n",
      "       [ 0.16989667,  0.15159913],\n",
      "       [ 3.14764609,  2.79445566],\n",
      "       [-0.91008852, -0.78516514],\n",
      "       [ 1.52674539,  1.35834961],\n",
      "       [-0.57075211, -0.50972984],\n",
      "       [ 0.73489803,  0.66013984],\n",
      "       [-1.5467849 , -1.37070652],\n",
      "       [ 0.7259379 ,  0.61706929],\n",
      "       [ 0.99960182,  0.89126947],\n",
      "       [-0.5728043 , -0.52376889],\n",
      "       [ 0.4549266 ,  0.41414502],\n",
      "       [-0.60881059, -0.55302367],\n",
      "       [ 1.36047555,  1.21586491],\n",
      "       [ 1.72999544,  1.53037452],\n",
      "       [ 0.65941339,  0.59942362],\n",
      "       [ 0.58986741,  0.54598655],\n",
      "       [-0.42957191, -0.40362961],\n",
      "       [-0.22209473, -0.16988145],\n",
      "       [ 0.0903753 ,  0.05724633],\n",
      "       [-0.59372381, -0.51353333],\n",
      "       [ 2.82862493,  2.49111111],\n",
      "       [-0.71340677, -0.62944536],\n",
      "       [ 0.2636839 ,  0.20543551],\n",
      "       [-0.49066192, -0.42306629],\n",
      "       [ 2.25467794,  1.99113521],\n",
      "       [ 0.33283162,  0.28156522],\n",
      "       [-0.69880304, -0.62162897],\n",
      "       [-0.2986199 , -0.24932656],\n",
      "       [ 0.44781045,  0.41546209],\n",
      "       [-1.67399656, -1.47392552],\n",
      "       [ 4.48508106,  3.93135078],\n",
      "       [-0.15997453, -0.13964309],\n",
      "       [ 1.6220466 ,  1.44167861],\n",
      "       [ 0.36750896,  0.32993656],\n",
      "       [-0.74635857, -0.65019336],\n",
      "       [ 0.69752022,  0.6074499 ],\n",
      "       [-0.0111582 , -0.01732622],\n",
      "       [ 0.78918071,  0.69724087],\n",
      "       [-0.05819136, -0.05436041],\n",
      "       [-1.0066698 , -0.87982242],\n",
      "       [-0.36857358, -0.35519219],\n",
      "       [ 0.52885117,  0.48143412],\n",
      "       [-0.44827932, -0.39244113],\n",
      "       [ 0.24792966,  0.21533102],\n",
      "       [ 2.06326304,  1.81394837],\n",
      "       [ 0.39761836,  0.35677649],\n",
      "       [-0.58747464, -0.49609794],\n",
      "       [ 0.12469131,  0.15053043]]), array([[ 3.25379647, -0.80440184,  1.33085826,  0.11491235, -0.79999084,\n",
      "         0.84108543, -2.00874123,  0.61801437, -2.78910618,  0.71747642,\n",
      "        -0.81098787,  1.03655681, -1.83142777, -0.85468418,  1.3545219 ,\n",
      "         1.48430988,  1.17261779,  0.01822667,  1.19789957, -2.34760286,\n",
      "        -2.78759179,  2.30078262,  2.1905306 ,  0.08756273, -1.77138208,\n",
      "         1.72131151,  1.56119053,  0.22298556,  0.69153373, -4.26062661,\n",
      "        -1.71293333, -0.49950375, -0.38910516,  0.33243007, -2.32718915,\n",
      "        -1.94289138, -2.02913476, -0.498999  , -2.06359956, -1.30968157,\n",
      "         2.48366577, -1.57535597, -0.70465585, -0.30167558, -1.14656542,\n",
      "         1.13952469,  2.67393595, -0.5124327 , -0.62552394, -2.32199406,\n",
      "        -4.30237588, -1.03328204,  0.17423898,  4.12669799, -1.24435977,\n",
      "         1.9762118 , -0.81071794,  0.92842926, -2.10422448,  0.89346793,\n",
      "         1.27724037, -0.82144778,  0.55862775, -0.86746331,  1.75886714,\n",
      "         2.24043237,  0.83248351,  0.74551524, -0.63605001, -0.328359  ,\n",
      "         0.05316445, -0.83024652,  3.68920413, -0.99555223,  0.27936864,\n",
      "        -0.69419146,  2.93327342,  0.38077993, -0.97956451, -0.43731467,\n",
      "         0.55424209, -2.26723357,  5.87804007, -0.26211219,  2.1018011 ,\n",
      "         0.43830328, -1.03364279,  0.86607252, -0.07122549,  0.99318763,\n",
      "        -0.13068479, -1.37835209, -0.55887391,  0.65774717, -0.64263752,\n",
      "         0.27415342,  2.67456689,  0.47823828, -0.81417937,  0.13988176]])], 'b': [array([[-0.0264109 ],\n",
      "       [-0.44990454],\n",
      "       [-0.37094064],\n",
      "       [-0.54059023],\n",
      "       [-0.45075522],\n",
      "       [-0.47034133],\n",
      "       [-0.19286069],\n",
      "       [-0.50419427],\n",
      "       [-0.08568732],\n",
      "       [-0.49027906],\n",
      "       [-0.44865881],\n",
      "       [-0.43389685],\n",
      "       [-0.22741725],\n",
      "       [-0.44022699],\n",
      "       [-0.36542729],\n",
      "       [-0.33596228],\n",
      "       [-0.40573661],\n",
      "       [-0.54039185],\n",
      "       [-0.40028223],\n",
      "       [-0.13680897],\n",
      "       [-0.08583227],\n",
      "       [-0.15894563],\n",
      "       [-0.18028098],\n",
      "       [-0.54077663],\n",
      "       [-0.23977382],\n",
      "       [-0.28140828],\n",
      "       [-0.3181392 ],\n",
      "       [-0.53797214],\n",
      "       [-0.49408492],\n",
      "       [-0.04905519],\n",
      "       [-0.25211708],\n",
      "       [-0.5000797 ],\n",
      "       [-0.51392575],\n",
      "       [-0.53233576],\n",
      "       [-0.13979026],\n",
      "       [-0.20530397],\n",
      "       [-0.18892964],\n",
      "       [-0.50017953],\n",
      "       [-0.18270335],\n",
      "       [-0.3421317 ],\n",
      "       [-0.12654271],\n",
      "       [-0.28210495],\n",
      "       [-0.46806566],\n",
      "       [-0.522947  ],\n",
      "       [-0.37879494],\n",
      "       [-0.41276218],\n",
      "       [-0.09624158],\n",
      "       [-0.4983211 ],\n",
      "       [-0.48132377],\n",
      "       [-0.14034168],\n",
      "       [-0.04970358],\n",
      "       [-0.4034938 ],\n",
      "       [-0.53951995],\n",
      "       [ 0.03157857],\n",
      "       [-0.35694582],\n",
      "       [-0.22468749],\n",
      "       [-0.44871222],\n",
      "       [-0.45475705],\n",
      "       [-0.17554834],\n",
      "       [-0.46108714],\n",
      "       [-0.38290638],\n",
      "       [-0.44665428],\n",
      "       [-0.51156725],\n",
      "       [-0.43771006],\n",
      "       [-0.27287221],\n",
      "       [-0.17056542],\n",
      "       [-0.47184804],\n",
      "       [-0.48601322],\n",
      "       [-0.47960824],\n",
      "       [-0.52040791],\n",
      "       [-0.54073262],\n",
      "       [-0.44498175],\n",
      "       [ 0.00780995],\n",
      "       [-0.41154023],\n",
      "       [-0.53542032],\n",
      "       [-0.46986847],\n",
      "       [-0.06108301],\n",
      "       [-0.5288897 ],\n",
      "       [-0.41490236],\n",
      "       [-0.50819869],\n",
      "       [-0.5120888 ],\n",
      "       [-0.14873477],\n",
      "       [ 0.08757201],\n",
      "       [-0.52646908],\n",
      "       [-0.19824663],\n",
      "       [-0.52409122],\n",
      "       [-0.40343304],\n",
      "       [-0.46599217],\n",
      "       [-0.5380837 ],\n",
      "       [-0.44244396],\n",
      "       [-0.53546733],\n",
      "       [-0.32650254],\n",
      "       [-0.49161787],\n",
      "       [-0.49888404],\n",
      "       [-0.47854974],\n",
      "       [-0.53570233],\n",
      "       [-0.09610576],\n",
      "       [-0.5203062 ],\n",
      "       [-0.44807479],\n",
      "       [-0.54026215]]), array([[-0.42417949]])]}\n"
     ]
    }
   ],
   "source": [
    "print(cls.parameters)"
   ]
  },
  {
   "cell_type": "code",
   "execution_count": 25,
   "metadata": {},
   "outputs": [
    {
     "data": {
      "text/plain": [
       "array([[1.69275526e-01, 8.30724474e-01],\n",
       "       [1.09195199e-03, 9.98908048e-01],\n",
       "       [1.07293250e-01, 8.92706750e-01],\n",
       "       [9.59915965e-01, 4.00840348e-02],\n",
       "       [9.87166317e-01, 1.28336834e-02],\n",
       "       [4.39993315e-02, 9.56000669e-01],\n",
       "       [9.90981929e-01, 9.01807121e-03],\n",
       "       [4.56897384e-01, 5.43102616e-01],\n",
       "       [9.96210391e-01, 3.78960916e-03],\n",
       "       [6.79084713e-01, 3.20915287e-01],\n",
       "       [8.38195337e-01, 1.61804663e-01],\n",
       "       [8.62061063e-02, 9.13793894e-01],\n",
       "       [9.93028187e-01, 6.97181289e-03],\n",
       "       [9.97582014e-01, 2.41798636e-03],\n",
       "       [2.37548131e-01, 7.62451869e-01],\n",
       "       [9.36583402e-01, 6.34165984e-02],\n",
       "       [4.57744194e-01, 5.42255806e-01],\n",
       "       [2.38492029e-01, 7.61507971e-01],\n",
       "       [9.96148791e-01, 3.85120917e-03],\n",
       "       [5.61013692e-01, 4.38986308e-01],\n",
       "       [1.45699175e-01, 8.54300825e-01],\n",
       "       [9.89469520e-01, 1.05304799e-02],\n",
       "       [3.46741530e-02, 9.65325847e-01],\n",
       "       [1.95607234e-03, 9.98043928e-01],\n",
       "       [9.64963355e-01, 3.50366448e-02],\n",
       "       [7.73622196e-01, 2.26377804e-01],\n",
       "       [5.80154001e-01, 4.19845999e-01],\n",
       "       [7.91418207e-01, 2.08581793e-01],\n",
       "       [1.76800117e-01, 8.23199883e-01],\n",
       "       [5.82180099e-02, 9.41781990e-01],\n",
       "       [8.16687606e-01, 1.83312394e-01],\n",
       "       [9.39531816e-01, 6.04681838e-02],\n",
       "       [2.39977293e-01, 7.60022707e-01],\n",
       "       [4.26449656e-01, 5.73550344e-01],\n",
       "       [1.50025921e-01, 8.49974079e-01],\n",
       "       [9.20139290e-02, 9.07986071e-01],\n",
       "       [7.63206716e-01, 2.36793284e-01],\n",
       "       [9.52679582e-01, 4.73204182e-02],\n",
       "       [2.91103712e-01, 7.08896288e-01],\n",
       "       [1.15607377e-01, 8.84392623e-01],\n",
       "       [9.18951602e-01, 8.10483984e-02],\n",
       "       [3.05912044e-02, 9.69408796e-01],\n",
       "       [9.94416467e-01, 5.58353347e-03],\n",
       "       [5.13909966e-01, 4.86090034e-01],\n",
       "       [2.49182619e-02, 9.75081738e-01],\n",
       "       [2.25286679e-01, 7.74713321e-01],\n",
       "       [9.68184995e-01, 3.18150045e-02],\n",
       "       [9.99794126e-01, 2.05874171e-04],\n",
       "       [9.92389191e-01, 7.61080860e-03],\n",
       "       [9.99627768e-01, 3.72231579e-04],\n",
       "       [9.86749559e-01, 1.32504408e-02],\n",
       "       [9.94729238e-01, 5.27076161e-03],\n",
       "       [8.31873851e-01, 1.68126149e-01],\n",
       "       [1.78150530e-02, 9.82184947e-01],\n",
       "       [3.79698272e-02, 9.62030173e-01],\n",
       "       [1.22933373e-01, 8.77066627e-01],\n",
       "       [9.97710599e-01, 2.28940135e-03],\n",
       "       [6.29645720e-01, 3.70354280e-01],\n",
       "       [9.48420780e-01, 5.15792198e-02],\n",
       "       [9.76913693e-01, 2.30863072e-02],\n",
       "       [9.94768317e-01, 5.23168276e-03],\n",
       "       [3.30410818e-03, 9.96695892e-01],\n",
       "       [2.13216552e-02, 9.78678345e-01],\n",
       "       [2.26127559e-03, 9.97738724e-01],\n",
       "       [1.47731374e-01, 8.52268626e-01],\n",
       "       [1.06916334e-01, 8.93083666e-01],\n",
       "       [8.71775313e-01, 1.28224687e-01],\n",
       "       [4.22824483e-02, 9.57717552e-01],\n",
       "       [9.98875974e-01, 1.12402566e-03],\n",
       "       [6.53342309e-01, 3.46657691e-01],\n",
       "       [1.41223440e-03, 9.98587766e-01],\n",
       "       [9.30128588e-01, 6.98714124e-02],\n",
       "       [9.98049540e-01, 1.95045995e-03],\n",
       "       [8.02588459e-01, 1.97411541e-01],\n",
       "       [8.25244874e-01, 1.74755126e-01],\n",
       "       [9.98946088e-01, 1.05391203e-03],\n",
       "       [8.37529172e-01, 1.62470828e-01],\n",
       "       [5.87585536e-01, 4.12414464e-01],\n",
       "       [5.77397531e-02, 9.42260247e-01],\n",
       "       [5.80338856e-01, 4.19661144e-01],\n",
       "       [9.93175367e-01, 6.82463294e-03],\n",
       "       [9.25802789e-01, 7.41972107e-02],\n",
       "       [8.15200252e-01, 1.84799748e-01],\n",
       "       [2.84918327e-01, 7.15081673e-01],\n",
       "       [9.98702897e-01, 1.29710330e-03],\n",
       "       [9.85934791e-01, 1.40652087e-02],\n",
       "       [3.96380299e-01, 6.03619701e-01],\n",
       "       [9.97244491e-01, 2.75550869e-03],\n",
       "       [9.99231127e-01, 7.68872542e-04],\n",
       "       [1.91228940e-01, 8.08771060e-01],\n",
       "       [9.98771252e-01, 1.22874820e-03],\n",
       "       [9.99491131e-01, 5.08868663e-04],\n",
       "       [1.17128828e-02, 9.88287117e-01],\n",
       "       [9.93284550e-01, 6.71545020e-03],\n",
       "       [8.54402258e-01, 1.45597742e-01],\n",
       "       [7.82667335e-01, 2.17332665e-01],\n",
       "       [6.77088328e-01, 3.22911672e-01],\n",
       "       [9.98164765e-01, 1.83523451e-03],\n",
       "       [3.90249257e-01, 6.09750743e-01],\n",
       "       [9.96570841e-01, 3.42915873e-03]])"
      ]
     },
     "execution_count": 25,
     "metadata": {},
     "output_type": "execute_result"
    }
   ],
   "source": [
    "Y_prob = cls.predict_proba(X)\n",
    "Y_prob"
   ]
  },
  {
   "cell_type": "code",
   "execution_count": 26,
   "metadata": {},
   "outputs": [
    {
     "data": {
      "text/plain": [
       "array([0, 0, 0, 1, 1, 0, 1, 0, 1, 1, 1, 0, 1, 1, 0, 1, 0, 0, 1, 1, 0, 1,\n",
       "       0, 0, 1, 1, 1, 1, 0, 0, 1, 1, 0, 0, 0, 0, 1, 1, 0, 0, 1, 0, 1, 1,\n",
       "       0, 0, 1, 1, 1, 1, 1, 1, 1, 0, 0, 0, 1, 1, 1, 1, 1, 0, 0, 0, 0, 0,\n",
       "       1, 0, 1, 1, 0, 1, 1, 1, 1, 1, 1, 1, 0, 1, 1, 1, 1, 0, 1, 1, 0, 1,\n",
       "       1, 0, 1, 1, 0, 1, 1, 1, 1, 1, 0, 1])"
      ]
     },
     "execution_count": 26,
     "metadata": {},
     "output_type": "execute_result"
    }
   ],
   "source": [
    "Y_hat = cls.predict(X)\n",
    "Y_hat"
   ]
  },
  {
   "cell_type": "code",
   "execution_count": 27,
   "metadata": {},
   "outputs": [
    {
     "data": {
      "text/plain": [
       "0.89"
      ]
     },
     "execution_count": 27,
     "metadata": {},
     "output_type": "execute_result"
    }
   ],
   "source": [
    "accuracy_score(Y, Y_hat)"
   ]
  },
  {
   "cell_type": "code",
   "execution_count": 28,
   "metadata": {},
   "outputs": [
    {
     "data": {
      "image/png": "[encoded data removed]",
      "text/plain": [
       "<Figure size 432x288 with 1 Axes>"
      ]
     },
     "metadata": {
      "needs_background": "light"
     },
     "output_type": "display_data"
    }
   ],
   "source": [
    "plot_data(X, Y)\n",
    "plot_surface(cls, X[:, 0], X[:, 1])"
   ]
  },
  {
   "cell_type": "code",
   "execution_count": 29,
   "metadata": {},
   "outputs": [],
   "source": [
    "\n",
    "from sklearn.neural_network import MLPClassifier\n",
    "clf = MLPClassifier(hidden_layer_sizes = (650,), max_iter = 10000, activation = 'tanh', solver = 'sgd', learning_rate_init = 0.0005, learning_rate = 'constant')"
   ]
  },
  {
   "cell_type": "code",
   "execution_count": 30,
   "metadata": {},
   "outputs": [
    {
     "data": {
      "text/plain": [
       "MLPClassifier(activation='tanh', hidden_layer_sizes=(650,),\n",
       "              learning_rate_init=0.0005, max_iter=10000, solver='sgd')"
      ]
     },
     "execution_count": 30,
     "metadata": {},
     "output_type": "execute_result"
    }
   ],
   "source": [
    "clf.fit(X, Y)"
   ]
  },
  {
   "cell_type": "code",
   "execution_count": 31,
   "metadata": {},
   "outputs": [
    {
     "data": {
      "image/png": "[encoded data removed]",
      "text/plain": [
       "<Figure size 432x288 with 1 Axes>"
      ]
     },
     "metadata": {
      "needs_background": "light"
     },
     "output_type": "display_data"
    }
   ],
   "source": [
    "plot_data(X, Y)\n",
    "plot_surface(clf, X[:, 0], X[:, 1])"
   ]
  },
  {
   "cell_type": "code",
   "execution_count": 32,
   "metadata": {},
   "outputs": [
    {
     "data": {
      "text/plain": [
       "0.95"
      ]
     },
     "execution_count": 32,
     "metadata": {},
     "output_type": "execute_result"
    }
   ],
   "source": [
    "accuracy_score(Y, clf.predict(X))"
   ]
  }
 ],
 "metadata": {
  "anaconda-cloud": {},
  "kernelspec": {
   "display_name": "Python 3",
   "language": "python",
   "name": "python3"
  },
  "language_info": {
   "codemirror_mode": {
    "name": "ipython",
    "version": 3
   },
   "file_extension": ".py",
   "mimetype": "text/x-python",
   "name": "python",
   "nbconvert_exporter": "python",
   "pygments_lexer": "ipython3",
   "version": "3.8.6"
  }
 },
 "nbformat": 4,
 "nbformat_minor": 1
}
