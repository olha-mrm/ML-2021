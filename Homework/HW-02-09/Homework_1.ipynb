{
  "nbformat": 4,
  "nbformat_minor": 0,
  "metadata": {
    "colab": {
      "name": "Homework 1.ipynb",
      "provenance": [],
      "collapsed_sections": []
    },
    "kernelspec": {
      "name": "python3",
      "display_name": "Python 3",
      "language": "python"
    }
  },
  "cells": [
    {
      "cell_type": "markdown",
      "metadata": {
        "id": "RLWh2g_gT5F1"
      },
      "source": [
        "**Homework 1**\r\n",
        "- реалізувати множення **матриць**\r\n",
        "- порахувати за який час воно виконується\r\n",
        "- порівняти час, що вийшов у мене, з часом, що вийшов за допомогою використання бібліотеки numpy"
      ]
    },
    {
      "cell_type": "code",
      "metadata": {
        "id": "RiFIZPVGT0py"
      },
      "source": [
        "#import pandas as pd\r\n",
        "import numpy as np\r\n",
        "import time"
      ],
      "execution_count": 1,
      "outputs": []
    },
    {
      "cell_type": "code",
      "metadata": {
        "id": "u7PUieKchh0S"
      },
      "source": [
        "#M1 =[[1, 2], [3, 4], [5, 6]]\n",
        "#M2 =[[1, 2, 3, 4], [5, 6, 7, 8]]\n",
        "\n",
        "M1 = np.random.rand(500, 500)\n",
        "M2 = np.random.rand(500, 500)\n",
        "\n",
        "#M1 = np.random.rand(1000, 1000)\n",
        "#M2 = np.random.rand(1000, 1000)"
      ],
      "execution_count": 2,
      "outputs": []
    },
    {
      "cell_type": "markdown",
      "metadata": {
        "id": "0yXDq-nehkT_"
      },
      "source": [
        "Matrix multiplication using my function:"
      ]
    },
    {
      "cell_type": "code",
      "metadata": {
        "colab": {
          "base_uri": "https://localhost:8080/"
        },
        "id": "ruOVBYp_Urwo",
        "outputId": "460f40ce-a976-4f07-a4fe-43c59dafa98b"
      },
      "source": [
        "def MartixMultiplication (A, B):\r\n",
        "  C = []\r\n",
        "  for i in range (len(A)):\r\n",
        "    l=[]\r\n",
        "    for j in range (len(B[0])):\r\n",
        "      S = 0\r\n",
        "      for k in range (len (A[i])):\r\n",
        "        S += A[i][k]*B[k][j]\r\n",
        "      l.append(S)\r\n",
        "    C.append(l)\r\n",
        "  return C\r\n",
        "\r\n",
        "\r\n",
        "start_time = time.time()\r\n",
        "\r\n",
        "C = MartixMultiplication (M1, M2)\r\n",
        "\r\n",
        "end_time = time.time()\r\n",
        "\r\n",
        "print(\"Time of execution: \" + str(end_time - start_time))\r\n"
      ],
      "execution_count": 3,
      "outputs": [
        {
          "output_type": "stream",
          "name": "stdout",
          "text": [
            "Time of execution: 93.27632999420166\n"
          ]
        }
      ]
    },
    {
      "cell_type": "markdown",
      "metadata": {
        "id": "hfXAuPpDhEt8"
      },
      "source": [
        "Matrix multiplication using numpy:"
      ]
    },
    {
      "cell_type": "code",
      "metadata": {
        "colab": {
          "base_uri": "https://localhost:8080/"
        },
        "id": "e6hqCSZ9gM6_",
        "outputId": "2dc31481-ce38-49aa-a8df-e452a6037015"
      },
      "source": [
        "start_time_numpy = time.time()\r\n",
        "\r\n",
        "D = np.dot(M1, M2)\r\n",
        "\r\n",
        "end_time_numpy = time.time()\r\n",
        "\r\n",
        "print(\"Time of execution: \" + str(end_time_numpy - start_time_numpy))\r\n"
      ],
      "execution_count": 4,
      "outputs": [
        {
          "output_type": "stream",
          "name": "stdout",
          "text": [
            "Time of execution: 0.01994609832763672\n"
          ]
        }
      ]
    }
  ]
}
